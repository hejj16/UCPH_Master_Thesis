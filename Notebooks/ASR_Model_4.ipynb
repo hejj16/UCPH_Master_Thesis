{
  "nbformat": 4,
  "nbformat_minor": 0,
  "metadata": {
    "colab": {
      "name": "Model_4.ipynb（副本）",
      "provenance": [],
      "collapsed_sections": []
    },
    "kernelspec": {
      "name": "python3",
      "display_name": "Python 3"
    },
    "language_info": {
      "name": "python"
    },
    "accelerator": "GPU"
  },
  "cells": [
    {
      "cell_type": "markdown",
      "source": [
        "# Model 4:\n",
        "\n",
        "Batched Draupnir Model (Unaligned)\n",
        "\n",
        "\n",
        "Model details:\n",
        "\n",
        "|Flavor|Included or Not|\n",
        "|:---------:|:-----:|\n",
        "|Unaligned Sequences|×|\n",
        "|Latent Tree|×|\n",
        "|Batched Input|×|\n",
        "\n",
        "\n"
      ],
      "metadata": {
        "id": "oe1vb1-RqG-Y"
      }
    },
    {
      "cell_type": "code",
      "source": [
        "leaf_seq_path = \"/content/realign_MSA.fas\"\n",
        "ancestor_path = \"/content/_pep_Unaligned_Internal_Nodes.FASTA\"\n",
        "tree_path = \"/content/_True_Rooted_tree_node_labels.tre\""
      ],
      "metadata": {
        "id": "66lK_OXp7Rfl"
      },
      "execution_count": null,
      "outputs": []
    },
    {
      "cell_type": "code",
      "source": [
        "! pip install pyro-ppl\n",
        "! pip install Biopython"
      ],
      "metadata": {
        "colab": {
          "base_uri": "https://localhost:8080/"
        },
        "id": "JHfBNQTiqcvp",
        "outputId": "ea04506f-5673-445c-a69f-f0394bf6ca93"
      },
      "execution_count": null,
      "outputs": [
        {
          "output_type": "stream",
          "name": "stdout",
          "text": [
            "Requirement already satisfied: pyro-ppl in /usr/local/lib/python3.7/dist-packages (1.8.1)\n",
            "Requirement already satisfied: opt-einsum>=2.3.2 in /usr/local/lib/python3.7/dist-packages (from pyro-ppl) (3.3.0)\n",
            "Requirement already satisfied: pyro-api>=0.1.1 in /usr/local/lib/python3.7/dist-packages (from pyro-ppl) (0.1.2)\n",
            "Requirement already satisfied: torch>=1.11.0 in /usr/local/lib/python3.7/dist-packages (from pyro-ppl) (1.11.0+cu113)\n",
            "Requirement already satisfied: numpy>=1.7 in /usr/local/lib/python3.7/dist-packages (from pyro-ppl) (1.21.6)\n",
            "Requirement already satisfied: tqdm>=4.36 in /usr/local/lib/python3.7/dist-packages (from pyro-ppl) (4.64.0)\n",
            "Requirement already satisfied: typing-extensions in /usr/local/lib/python3.7/dist-packages (from torch>=1.11.0->pyro-ppl) (4.2.0)\n",
            "Requirement already satisfied: Biopython in /usr/local/lib/python3.7/dist-packages (1.79)\n",
            "Requirement already satisfied: numpy in /usr/local/lib/python3.7/dist-packages (from Biopython) (1.21.6)\n"
          ]
        }
      ]
    },
    {
      "cell_type": "code",
      "source": [
        "import pyro\n",
        "import torch\n",
        "from helper import *\n",
        "from PyroModel import *\n",
        "from JAXFunctions import *\n",
        "from Error_measure import *\n",
        "from torch.optim import Adam\n",
        "from tqdm import tqdm\n",
        "import matplotlib.pyplot as plt\n",
        "from pyro.infer import SVI, Trace_ELBO\n",
        "from sklearn.manifold import TSNE\n",
        "from scipy.stats import spearmanr, pearsonr\n",
        "import os\n",
        "import math\n",
        "\n",
        "from ASR import ASR"
      ],
      "metadata": {
        "id": "fZVkHYAaqeVW"
      },
      "execution_count": null,
      "outputs": []
    },
    {
      "cell_type": "code",
      "source": [
        "os.environ[\"XLA_PYTHON_CLIENT_ALLOCATOR\"] = \"platform\""
      ],
      "metadata": {
        "id": "NPPNvgC43Pzs"
      },
      "execution_count": null,
      "outputs": []
    },
    {
      "cell_type": "code",
      "source": [
        "batch_size = 64"
      ],
      "metadata": {
        "id": "maM_QnPBqgPn"
      },
      "execution_count": null,
      "outputs": []
    },
    {
      "cell_type": "code",
      "source": [
        "AA_dict, back_AA_dict = get_AA_dict(n_c=24)\n",
        "S, S_names, S_lengths, S_char = load_Unaligned_Data(leaf_seq_path, \"cuda\", AA_dict)\n",
        "\n",
        "_, Anc_names, Anc_lengths, Anc_char = load_Unaligned_Data(ancestor_path, \"cuda\", AA_dict)\n",
        "Anc_names[Anc_names.index(\"Node1 The root\")] = \"Node1\""
      ],
      "metadata": {
        "id": "0S9TaGVNqOe0"
      },
      "execution_count": null,
      "outputs": []
    },
    {
      "cell_type": "code",
      "source": [
        "msa_ref = torch.rand(int(S.shape[1] * 1.5), 23, device=\"cuda\")"
      ],
      "metadata": {
        "id": "RfAO_7vy3NSz"
      },
      "execution_count": null,
      "outputs": []
    },
    {
      "cell_type": "code",
      "source": [
        "# pre_align = load_MSA(\"/content/prealign_MSA.fas\", \"cuda\", AA_dict)\n",
        "# pre_align_onehot = torch.zeros_like(pre_align[:, :, None]).expand([-1, -1, 24]).clone().scatter_(-1, pre_align[:, :, None], 1)\n",
        "# pre_align_onehot = pre_align_onehot.float().cuda()\n",
        "\n",
        "# msa_ref = pre_align_onehot.sum(dim=0)[:, :-1] + 1e-3\n",
        "# msa_ref /= msa_ref.sum(-1, True)"
      ],
      "metadata": {
        "id": "IaWneVFmFZCw"
      },
      "execution_count": null,
      "outputs": []
    },
    {
      "cell_type": "code",
      "source": [
        "def get_true_tree_distances_including_ancestors(true_tree_path, S_names, ancestor_names):\n",
        "    \"\"\"\n",
        "    Only work for simulation data\n",
        "    Since the names of simulated ancestors are just numbers, Biopython will interpret them as \"confidence\" by default\n",
        "    And there is no name/confidence for root\n",
        "\n",
        "    \"\"\"\n",
        "    t = Phylo.read(true_tree_path, \"newick\")\n",
        "    nodes = t.get_terminals() + t.get_nonterminals()\n",
        "    mat = np.zeros([len(nodes), len(nodes)])\n",
        "    names = S_names + ancestor_names\n",
        "\n",
        "    for x, y in tqdm(itertools.combinations(nodes, 2)):\n",
        "        v = t.distance(x, y)\n",
        "        x_name = \"Node\" + str(x.confidence) if x.confidence is not None else \"Node1\" if x.name is None else x.name\n",
        "        y_name = \"Node\" + str(y.confidence) if y.confidence is not None else \"Node1\" if y.name is None else y.name\n",
        "        idx, idy = names.index(x_name), names.index(y_name)\n",
        "        mat[idx][idy] = v\n",
        "        mat[idy][idx] = v\n",
        "    return mat"
      ],
      "metadata": {
        "id": "lWnhfJie7gLs"
      },
      "execution_count": null,
      "outputs": []
    },
    {
      "cell_type": "code",
      "source": [
        "# true_tree_distances_including_ancestors = get_true_tree_distances_including_ancestors(tree_path, S_names, Anc_names)\n",
        "# true_tree_distances = true_tree_distances_including_ancestors[:len(S_names), :len(S_names)]\n",
        "\n",
        "import pickle\n",
        "\n",
        "# with open(\"matrix.txt\", \"wb\") as f:\n",
        "#     pickle.dump(true_tree_distances_including_ancestors, f)\n",
        "with open(\"matrix.txt\", \"rb\") as f:\n",
        "    true_tree_distances_including_ancestors = pickle.load(f)\n",
        "true_tree_distances = true_tree_distances_including_ancestors[:len(S_names), :len(S_names)]"
      ],
      "metadata": {
        "id": "jUQQU1Ka7liV"
      },
      "execution_count": null,
      "outputs": []
    },
    {
      "cell_type": "code",
      "source": [
        "true_tree_distances_including_ancestors.shape, true_tree_distances.shape"
      ],
      "metadata": {
        "colab": {
          "base_uri": "https://localhost:8080/"
        },
        "id": "kQWAe5lR-4du",
        "outputId": "f6891974-db44-4179-aaad-265fcf8cbc7b"
      },
      "execution_count": null,
      "outputs": [
        {
          "output_type": "execute_result",
          "data": {
            "text/plain": [
              "((2047, 2047), (1024, 1024))"
            ]
          },
          "metadata": {},
          "execution_count": 10
        }
      ]
    },
    {
      "cell_type": "code",
      "source": [
        "pyro.clear_param_store()\n",
        "vae = VAE(50, 24, msa_ref.shape[0])"
      ],
      "metadata": {
        "id": "EgJoIaPf7s6a"
      },
      "execution_count": null,
      "outputs": []
    },
    {
      "cell_type": "code",
      "source": [
        "def per_param_callable(module_name, param_name):\n",
        "    if param_name in [\"tree_embed_loc\", \"tree_embed_len\"]:\n",
        "        return {\"lr\": 0.01, \"clip_norm\": 10}\n",
        "    elif param_name in [\"Blosum\"]:\n",
        "        return {\"lr\": 1e-8, \"clip_norm\": 10}\n",
        "    elif param_name in [\"sigma_f_loc\", \"sigma_n_loc\", \"lambd_loc\"]:\n",
        "        return {\"lr\": 1e-6, \"clip_norm\": 10}\n",
        "    else:   \n",
        "        return {\"lr\": 0.001, \"clip_norm\": 10}\n",
        "optimizer = pyro.optim.ClippedAdam(per_param_callable)\n",
        "svi = SVI(vae.batched_model_latent_tree, vae.batched_guide_latent_tree, optimizer, loss=Trace_ELBO(num_particles=1))"
      ],
      "metadata": {
        "id": "DS3u43qw707-"
      },
      "execution_count": null,
      "outputs": []
    },
    {
      "cell_type": "code",
      "source": [
        "ELBOs = []\n",
        "\n",
        "S_ave_pos = []\n",
        "\n",
        "Rec_Acc = []\n",
        "Rec_Acc_remove_gap = []"
      ],
      "metadata": {
        "id": "kZYFX8JS73_z"
      },
      "execution_count": null,
      "outputs": []
    },
    {
      "cell_type": "code",
      "source": [
        "for b in tqdm(range(1201)):\n",
        "    indices = np.random.choice(S.shape[0], S.shape[0], False)\n",
        "    elbos = []\n",
        "    for batch in range(S.shape[0] // batch_size - 1):\n",
        "      batch_idx = indices[batch * batch_size: batch * batch_size + batch_size]\n",
        "      back_idx = indices[S.shape[0] // batch_size * batch_size - batch_size:]\n",
        "      all_idx = np.concatenate([back_idx, batch_idx])\n",
        "\n",
        "      elbo = svi.step(Unaligned_S=S[batch_idx],\n",
        "               S_length=np.array(S_lengths)[batch_idx].tolist(),\n",
        "               S_index=batch_idx,\n",
        "               msa_ref=msa_ref,\n",
        "               S_ave_pos=S_ave_pos,\n",
        "               num_batch=S.shape[0] // batch_size - 1,\n",
        "               Unaligned_S_back=S[back_idx],\n",
        "               S_back_length=np.array(S_lengths)[back_idx].tolist(),\n",
        "               S_back_index=back_idx,\n",
        "               num_instance=S.shape[0],\n",
        "               tree_emb_dim=40,\n",
        "               regularization_D=False)\n",
        "      elbos.append(elbo)\n",
        "    ELBOs.append(sum(elbos) / len(elbos))\n",
        "\n",
        "    msa_ref_epoch = torch.cat(S_ave_pos, dim=0).sum(dim=0) + 1e-3\n",
        "    msa_ref_epoch /= msa_ref_epoch.sum(-1, True)\n",
        "\n",
        "    msa_ref = msa_ref_epoch * 0.05 + msa_ref * 0.95\n",
        "    S_ave_pos = [] # clear\n",
        "\n",
        "\n",
        "    if b == 120:\n",
        "        def per_param_callable(module_name, param_name):\n",
        "            if param_name in [\"tree_embed_loc\", \"tree_embed_len\"]:\n",
        "                return {\"lr\": 1e-4, \"clip_norm\": 10}\n",
        "            elif param_name in [\"sigma_f_loc\", \"sigma_n_loc\", \"lambd_loc\"]:\n",
        "                return {\"lr\": 1e-6, \"clip_norm\": 10}\n",
        "            else:\n",
        "                return {\"lr\": 0.001, \"clip_norm\": 10}\n",
        "        optimizer = pyro.optim.ClippedAdam(per_param_callable)\n",
        "        svi = SVI(vae.batched_model_latent_tree, vae.batched_guide_latent_tree, optimizer, loss=Trace_ELBO(num_particles=1))\n",
        "\n",
        "    if b == 400:\n",
        "        def per_param_callable(module_name, param_name):\n",
        "            if param_name in [\"tree_embed_loc\", \"tree_embed_len\"]:\n",
        "                return {\"lr\": 1e-8, \"clip_norm\": 10}\n",
        "            elif param_name in [\"sigma_f_loc\", \"sigma_n_loc\", \"lambd_loc\"]:\n",
        "                return {\"lr\": 1e-6, \"clip_norm\": 10}\n",
        "            else:\n",
        "                return {\"lr\": 0.001, \"clip_norm\": 10}\n",
        "        optimizer = pyro.optim.ClippedAdam(per_param_callable)\n",
        "        svi = SVI(vae.batched_model_latent_tree, vae.batched_guide_latent_tree, optimizer, loss=Trace_ELBO(num_particles=1))\n",
        "\n",
        "    # if b == 1505:\n",
        "    #     def per_param_callable(module_name, param_name):\n",
        "    #         if param_name in [\"tree_embed_loc\", \"tree_embed_len\"]:\n",
        "    #             return {\"lr\": 1e-8, \"clip_norm\": 10}\n",
        "    #         elif param_name in [\"sigma_f_loc\", \"sigma_n_loc\", \"lambd_loc\"]:\n",
        "    #             return {\"lr\": 1e-6, \"clip_norm\": 10}\n",
        "    #         else:\n",
        "    #             return {\"lr\": 0.001, \"clip_norm\": 10}\n",
        "    #     optimizer = pyro.optim.ClippedAdam(per_param_callable)\n",
        "    #     svi = SVI(vae.batched_model_latent_tree, vae.batched_guide_latent_tree, optimizer, loss=Trace_ELBO(num_particles=1))\n",
        "\n",
        "\n",
        "    if b % 10 == 0:\n",
        "        with torch.no_grad():\n",
        "            # Rec ACC\n",
        "            S_onehot = torch.zeros_like(S[:, :, None]).expand([-1, -1, 24]).clone().scatter_(-1, S[:, :, None], 1)\n",
        "            S_onehot = S_onehot[:, :, :].float().cuda()\n",
        "            ref_emb = msa_ref\n",
        "            mask = (torch.arange(S.shape[1])[None, :] < torch.tensor(S_lengths)[:, None]).to(vae.device)\n",
        "            s_emb = (S_onehot * mask[:, :, None])[:, :, :-1]\n",
        "            similar_tensor = ref_emb @ pyro.param(\"Blosum\") @ s_emb.transpose(1, 2)\n",
        "\n",
        "\n",
        "            path = torch.cat([snw(similar_tensor[i * batch_size: (i + 1) * batch_size], list(S_lengths)[i * batch_size: (i + 1) * batch_size], vae.nw_fn) for i in range(int(math.ceil(S.shape[0] / batch_size)))], dim=0)\n",
        "\n",
        "            MSA = path @ S_onehot  # N, L, l @ N, l, n_c\n",
        "            MSA[:, :, -1] = MSA[:, :, -1] + 1 - path.sum(-1)  # fill the gaps with onehot-encoding of \"-\"\n",
        "\n",
        "            Z_loc = vae.encoder(MSA, S_lengths).detach()\n",
        "            re_MSA = vae.decoder.forward(None, Z_loc, False)\n",
        "\n",
        "            Rec_Acc_remove_gap.append(np.mean(reconstruction_accuracy(re_MSA, MSA, gap_index=23, remove_gap=True)))\n",
        "            Rec_Acc.append(np.mean(reconstruction_accuracy(re_MSA, MSA, gap_index=23, remove_gap=False)))\n",
        "\n",
        "with torch.no_grad():\n",
        "\n",
        "    # Distances Correlation\n",
        "    latent_distance = 1 - torch.sum(Z_loc[None, :, :] * Z_loc[:, None, :], dim=-1) / torch.norm(Z_loc, p=2, dim=-1)[None, :] / torch.norm(Z_loc, p=2, dim=-1)[:, None]\n",
        "    latent_distance = torch.norm(Z_loc[None, :, :] - Z_loc[:, None, :], dim=-1)\n",
        "    latent_distance_upper = latent_distance[torch.triu_indices(S.shape[0], S.shape[0], 1)[0], torch.triu_indices(S.shape[0], S.shape[0], 1)[1]]\n",
        "    real_distance_upper = true_tree_distances[torch.triu_indices(S.shape[0], S.shape[0], 1)[0], torch.triu_indices(S.shape[0], S.shape[0], 1)[1]]\n",
        "    Spearmans = spearmanr(latent_distance_upper.cpu(), real_distance_upper)[0]\n",
        "    Pearsonss = pearsonr(latent_distance_upper.cpu(), real_distance_upper)[0]\n",
        "\n",
        "    # LCA ASR ACC\n",
        "    sigma_f = pyro.param(\"sigma_f_loc\")\n",
        "    sigma_n = pyro.param(\"sigma_n_loc\")\n",
        "    lambd = pyro.param(\"lambd_loc\")\n",
        "\n",
        "    tree_emb_loc, tree_emb_len = pyro.param(\"tree_embed_loc\"), pyro.param(\"tree_embed_len\")\n",
        "    tree_embedding = tree_emb_loc / tree_emb_loc.norm(dim=-1, keepdim=True) * tree_emb_len\n",
        "    batch_distance = vae._get_D(tree_embedding, 0)\n",
        "    tree = build_tree(batch_distance.cpu().numpy(), S_names)\n",
        "    print(1)\n",
        "    nj_tree_distances_including_ancestors, rec_ans_names = get_nj_tree_distance_including_ancestors(tree, S_names)\n",
        "    nj_tree_distances = nj_tree_distances_including_ancestors[:len(S_names), :len(S_names)]\n",
        "    print(2)\n",
        "\n",
        "\n",
        "    cov = torch.from_numpy(nj_tree_distances_including_ancestors).to(vae.device).float()[np.newaxis, :, :].expand([vae.n_z, nj_tree_distances_including_ancestors.shape[0], nj_tree_distances_including_ancestors.shape[0]]) / lambd[:, np.newaxis, np.newaxis]\n",
        "    cov = (torch.exp(-cov) * sigma_f[:, np.newaxis, np.newaxis] ** 2 + torch.eye(cov.shape[1], device=vae.device)[np.newaxis, :, :] * sigma_n[:, np.newaxis, np.newaxis] ** 2)\n",
        "\n",
        "    cov_tips = cov[:, :len(S_names), :len(S_names)]\n",
        "    cov_anc = cov[:, len(S_names):, len(S_names):]\n",
        "    con_tips_anc = cov[:, len(S_names):, :len(S_names)]\n",
        "\n",
        "    rec_anc = ASR(Z_loc, cov_tips, cov_anc, con_tips_anc, decoder=lambda x: vae.decoder(None, x, False))\n",
        "    rec_anc = tensor2char(rec_anc, back_AA_dict)\n",
        "\n",
        "    t = Phylo.read(tree_path, \"newick\")\n",
        "    tips = t.get_terminals()\n",
        "    tips = sorted(tips, key=lambda x: x.name)\n",
        "    ground = []\n",
        "    for i in range(len(tips)):\n",
        "        for j in range(i+1, len(tips)):\n",
        "            lca = t.common_ancestor(tips[i], tips[j])\n",
        "            lca_name = \"Node\" + str(lca.confidence) if lca.confidence is not None else \"Node1\" \n",
        "            lca_index = Anc_names.index(lca_name)\n",
        "            ground.append(Anc_char[lca_index])\n",
        "    tips = tree.get_terminals()\n",
        "    tips = sorted(tips, key=lambda x: x.name)\n",
        "    predicts = []\n",
        "    for i in range(len(tips)):\n",
        "        for j in range(i+1, len(tips)):\n",
        "            lca = tree.common_ancestor(tips[i], tips[j])\n",
        "            lca_name = lca.name\n",
        "            lca_index = rec_ans_names.index(lca_name)\n",
        "            predicts.append(rec_anc[lca_index])\n",
        "    accs = asr_accuracy(ground, predicts)\n",
        "    LCA_ASR_Acc = np.mean(accs)\n",
        "    LCA_ASR_Acc_std = np.std(accs)\n",
        "    LCA_ASR_Acc_max = np.max(accs)\n",
        "    LCA_ASR_Acc_min = np.min(accs)\n",
        "\n",
        "    # tree measure\n",
        "    nj_tree_distances_upper = nj_tree_distances[torch.triu_indices(S.shape[0], S.shape[0], 1)[0], torch.triu_indices(S.shape[0], S.shape[0], 1)[1]]\n",
        "    Spearmans_tree = spearmanr(nj_tree_distances_upper, real_distance_upper)[0]\n",
        "    Pearsons_tree = pearsonr(nj_tree_distances_upper, real_distance_upper)[0]\n",
        "\n",
        "    embed_distances_upper = batch_distance.cpu().numpy()[torch.triu_indices(S.shape[0], S.shape[0], 1)[0], torch.triu_indices(S.shape[0], S.shape[0], 1)[1]]\n",
        "    Spearmans_dis = spearmanr(embed_distances_upper, real_distance_upper)[0]\n",
        "    Pearsons_dis = pearsonr(embed_distances_upper, real_distance_upper)[0]\n",
        "\n",
        "\n",
        "\n"
      ],
      "metadata": {
        "colab": {
          "base_uri": "https://localhost:8080/"
        },
        "id": "xWZIR9lJ7_Bv",
        "outputId": "28e0b16f-8e5f-461d-9a8d-d58dac3c2421"
      },
      "execution_count": null,
      "outputs": [
        {
          "output_type": "stream",
          "name": "stderr",
          "text": [
            "\r  0%|          | 0/1201 [00:00<?, ?it/s]/usr/local/lib/python3.7/dist-packages/torch/distributions/dirichlet.py:71: UserWarning: Specified kernel cache directory could not be created! This disables kernel caching. Specified directory is /root/.cache/torch/kernels. This warning will appear only once per process. (Triggered internally at  ../aten/src/ATen/native/cuda/jit_utils.cpp:860.)\n",
            "  torch.lgamma(self.concentration.sum(-1)) -\n",
            "100%|██████████| 1201/1201 [3:57:24<00:00, 11.86s/it]\n"
          ]
        },
        {
          "output_type": "stream",
          "name": "stdout",
          "text": [
            "1\n"
          ]
        }
      ]
    },
    {
      "cell_type": "code",
      "source": [
        "Phylo.write(tree, \"./tree_latent_full.tre\", \"newick\")"
      ],
      "metadata": {
        "id": "JN9Z8r1aICgp"
      },
      "execution_count": null,
      "outputs": []
    },
    {
      "cell_type": "code",
      "source": [
        "plt.rcParams[\"figure.figsize\"] = (6, 4)\n",
        "plt.plot(ELBOs)"
      ],
      "metadata": {
        "id": "qhoZ-g7SAN7C"
      },
      "execution_count": null,
      "outputs": []
    },
    {
      "cell_type": "code",
      "source": [
        "plt.rcParams[\"figure.figsize\"] = (6, 4)\n",
        "plt.plot(np.arange(len(Rec_Acc)) * 10, Rec_Acc)\n",
        "plt.plot(np.arange(len(Rec_Acc_remove_gap)) * 10, Rec_Acc_remove_gap)\n",
        "plt.ylim(-0.01, 1.01)\n",
        "plt.yticks(np.arange(0, 1.01, 0.1))\n",
        "print(max(Rec_Acc_remove_gap[1:]))"
      ],
      "metadata": {
        "id": "Ud49Cetb9-2r"
      },
      "execution_count": null,
      "outputs": []
    },
    {
      "cell_type": "code",
      "source": [
        "print(Spearmans, Pearsonss)"
      ],
      "metadata": {
        "id": "MLWqrZ6SAhgK"
      },
      "execution_count": null,
      "outputs": []
    },
    {
      "cell_type": "code",
      "source": [
        "LCA_ASR_Acc, LCA_ASR_Acc_std, LCA_ASR_Acc_max, LCA_ASR_Acc_min"
      ],
      "metadata": {
        "id": "Q7xpu9yVArOv"
      },
      "execution_count": null,
      "outputs": []
    },
    {
      "cell_type": "code",
      "source": [
        "Spearmans_tree, Pearsons_tree"
      ],
      "metadata": {
        "id": "HCG-IQ5PGHX3"
      },
      "execution_count": null,
      "outputs": []
    },
    {
      "cell_type": "code",
      "source": [
        "pyro.param(\"sigma_f_loc\"), pyro.param(\"sigma_n_loc\"), pyro.param(\"lambd_loc\")"
      ],
      "metadata": {
        "id": "vt5QhkXzGHZ8"
      },
      "execution_count": null,
      "outputs": []
    },
    {
      "cell_type": "code",
      "source": [
        ""
      ],
      "metadata": {
        "id": "ahsc4erN9Avg"
      },
      "execution_count": null,
      "outputs": []
    }
  ]
}