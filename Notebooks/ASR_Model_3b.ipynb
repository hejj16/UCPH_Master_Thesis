{
  "nbformat": 4,
  "nbformat_minor": 0,
  "metadata": {
    "colab": {
      "name": "Model_1.1(padding).ipynb（副本）",
      "provenance": [],
      "collapsed_sections": []
    },
    "kernelspec": {
      "name": "python3",
      "display_name": "Python 3"
    },
    "language_info": {
      "name": "python"
    },
    "accelerator": "GPU"
  },
  "cells": [
    {
      "cell_type": "markdown",
      "source": [
        "# Model 3b:\n",
        "\n",
        "Batched Draupnir Model by padding\n",
        "\n",
        "\n",
        "Model details:\n",
        "\n",
        "|Flavor|Included or Not|\n",
        "|:---------:|:-----:|\n",
        "|Unaligned Sequences|Padding|\n",
        "|Latent Tree| |\n",
        "|Batched Input|×|\n",
        "\n",
        "\n"
      ],
      "metadata": {
        "id": "oe1vb1-RqG-Y"
      }
    },
    {
      "cell_type": "code",
      "source": [
        "leaf_seq_path = \"/content/realign_MSA.fas\"\n",
        "ancestor_path = \"/content/_pep_Unaligned_Internal_Nodes.FASTA\"\n",
        "tree_path = \"/content/_True_Rooted_tree_node_labels.tre\""
      ],
      "metadata": {
        "id": "66lK_OXp7Rfl"
      },
      "execution_count": null,
      "outputs": []
    },
    {
      "cell_type": "code",
      "source": [
        "! pip install pyro-ppl\n",
        "! pip install Biopython"
      ],
      "metadata": {
        "colab": {
          "base_uri": "https://localhost:8080/"
        },
        "id": "JHfBNQTiqcvp",
        "outputId": "b27cdb80-d5d8-4f17-b836-d61cabab0f71"
      },
      "execution_count": null,
      "outputs": [
        {
          "output_type": "stream",
          "name": "stdout",
          "text": [
            "Collecting pyro-ppl\n",
            "  Downloading pyro_ppl-1.8.1-py3-none-any.whl (718 kB)\n",
            "\u001b[?25l\r\u001b[K     |▌                               | 10 kB 33.2 MB/s eta 0:00:01\r\u001b[K     |█                               | 20 kB 38.0 MB/s eta 0:00:01\r\u001b[K     |█▍                              | 30 kB 40.6 MB/s eta 0:00:01\r\u001b[K     |█▉                              | 40 kB 32.5 MB/s eta 0:00:01\r\u001b[K     |██▎                             | 51 kB 35.7 MB/s eta 0:00:01\r\u001b[K     |██▊                             | 61 kB 39.9 MB/s eta 0:00:01\r\u001b[K     |███▏                            | 71 kB 28.8 MB/s eta 0:00:01\r\u001b[K     |███▋                            | 81 kB 30.0 MB/s eta 0:00:01\r\u001b[K     |████                            | 92 kB 32.3 MB/s eta 0:00:01\r\u001b[K     |████▋                           | 102 kB 33.9 MB/s eta 0:00:01\r\u001b[K     |█████                           | 112 kB 33.9 MB/s eta 0:00:01\r\u001b[K     |█████▌                          | 122 kB 33.9 MB/s eta 0:00:01\r\u001b[K     |██████                          | 133 kB 33.9 MB/s eta 0:00:01\r\u001b[K     |██████▍                         | 143 kB 33.9 MB/s eta 0:00:01\r\u001b[K     |██████▉                         | 153 kB 33.9 MB/s eta 0:00:01\r\u001b[K     |███████▎                        | 163 kB 33.9 MB/s eta 0:00:01\r\u001b[K     |███████▊                        | 174 kB 33.9 MB/s eta 0:00:01\r\u001b[K     |████████▏                       | 184 kB 33.9 MB/s eta 0:00:01\r\u001b[K     |████████▊                       | 194 kB 33.9 MB/s eta 0:00:01\r\u001b[K     |█████████▏                      | 204 kB 33.9 MB/s eta 0:00:01\r\u001b[K     |█████████▋                      | 215 kB 33.9 MB/s eta 0:00:01\r\u001b[K     |██████████                      | 225 kB 33.9 MB/s eta 0:00:01\r\u001b[K     |██████████▌                     | 235 kB 33.9 MB/s eta 0:00:01\r\u001b[K     |███████████                     | 245 kB 33.9 MB/s eta 0:00:01\r\u001b[K     |███████████▍                    | 256 kB 33.9 MB/s eta 0:00:01\r\u001b[K     |███████████▉                    | 266 kB 33.9 MB/s eta 0:00:01\r\u001b[K     |████████████▎                   | 276 kB 33.9 MB/s eta 0:00:01\r\u001b[K     |████████████▊                   | 286 kB 33.9 MB/s eta 0:00:01\r\u001b[K     |█████████████▎                  | 296 kB 33.9 MB/s eta 0:00:01\r\u001b[K     |█████████████▊                  | 307 kB 33.9 MB/s eta 0:00:01\r\u001b[K     |██████████████▏                 | 317 kB 33.9 MB/s eta 0:00:01\r\u001b[K     |██████████████▋                 | 327 kB 33.9 MB/s eta 0:00:01\r\u001b[K     |███████████████                 | 337 kB 33.9 MB/s eta 0:00:01\r\u001b[K     |███████████████▌                | 348 kB 33.9 MB/s eta 0:00:01\r\u001b[K     |████████████████                | 358 kB 33.9 MB/s eta 0:00:01\r\u001b[K     |████████████████▍               | 368 kB 33.9 MB/s eta 0:00:01\r\u001b[K     |████████████████▉               | 378 kB 33.9 MB/s eta 0:00:01\r\u001b[K     |█████████████████▍              | 389 kB 33.9 MB/s eta 0:00:01\r\u001b[K     |█████████████████▉              | 399 kB 33.9 MB/s eta 0:00:01\r\u001b[K     |██████████████████▎             | 409 kB 33.9 MB/s eta 0:00:01\r\u001b[K     |██████████████████▊             | 419 kB 33.9 MB/s eta 0:00:01\r\u001b[K     |███████████████████▏            | 430 kB 33.9 MB/s eta 0:00:01\r\u001b[K     |███████████████████▋            | 440 kB 33.9 MB/s eta 0:00:01\r\u001b[K     |████████████████████            | 450 kB 33.9 MB/s eta 0:00:01\r\u001b[K     |████████████████████▌           | 460 kB 33.9 MB/s eta 0:00:01\r\u001b[K     |█████████████████████           | 471 kB 33.9 MB/s eta 0:00:01\r\u001b[K     |█████████████████████▍          | 481 kB 33.9 MB/s eta 0:00:01\r\u001b[K     |██████████████████████          | 491 kB 33.9 MB/s eta 0:00:01\r\u001b[K     |██████████████████████▍         | 501 kB 33.9 MB/s eta 0:00:01\r\u001b[K     |██████████████████████▉         | 512 kB 33.9 MB/s eta 0:00:01\r\u001b[K     |███████████████████████▎        | 522 kB 33.9 MB/s eta 0:00:01\r\u001b[K     |███████████████████████▊        | 532 kB 33.9 MB/s eta 0:00:01\r\u001b[K     |████████████████████████▏       | 542 kB 33.9 MB/s eta 0:00:01\r\u001b[K     |████████████████████████▋       | 552 kB 33.9 MB/s eta 0:00:01\r\u001b[K     |█████████████████████████       | 563 kB 33.9 MB/s eta 0:00:01\r\u001b[K     |█████████████████████████▌      | 573 kB 33.9 MB/s eta 0:00:01\r\u001b[K     |██████████████████████████      | 583 kB 33.9 MB/s eta 0:00:01\r\u001b[K     |██████████████████████████▌     | 593 kB 33.9 MB/s eta 0:00:01\r\u001b[K     |███████████████████████████     | 604 kB 33.9 MB/s eta 0:00:01\r\u001b[K     |███████████████████████████▍    | 614 kB 33.9 MB/s eta 0:00:01\r\u001b[K     |███████████████████████████▉    | 624 kB 33.9 MB/s eta 0:00:01\r\u001b[K     |████████████████████████████▎   | 634 kB 33.9 MB/s eta 0:00:01\r\u001b[K     |████████████████████████████▊   | 645 kB 33.9 MB/s eta 0:00:01\r\u001b[K     |█████████████████████████████▏  | 655 kB 33.9 MB/s eta 0:00:01\r\u001b[K     |█████████████████████████████▋  | 665 kB 33.9 MB/s eta 0:00:01\r\u001b[K     |██████████████████████████████  | 675 kB 33.9 MB/s eta 0:00:01\r\u001b[K     |██████████████████████████████▋ | 686 kB 33.9 MB/s eta 0:00:01\r\u001b[K     |███████████████████████████████ | 696 kB 33.9 MB/s eta 0:00:01\r\u001b[K     |███████████████████████████████▌| 706 kB 33.9 MB/s eta 0:00:01\r\u001b[K     |████████████████████████████████| 716 kB 33.9 MB/s eta 0:00:01\r\u001b[K     |████████████████████████████████| 718 kB 33.9 MB/s \n",
            "\u001b[?25hRequirement already satisfied: opt-einsum>=2.3.2 in /usr/local/lib/python3.7/dist-packages (from pyro-ppl) (3.3.0)\n",
            "Collecting pyro-api>=0.1.1\n",
            "  Downloading pyro_api-0.1.2-py3-none-any.whl (11 kB)\n",
            "Requirement already satisfied: tqdm>=4.36 in /usr/local/lib/python3.7/dist-packages (from pyro-ppl) (4.64.0)\n",
            "Requirement already satisfied: numpy>=1.7 in /usr/local/lib/python3.7/dist-packages (from pyro-ppl) (1.21.6)\n",
            "Requirement already satisfied: torch>=1.11.0 in /usr/local/lib/python3.7/dist-packages (from pyro-ppl) (1.11.0+cu113)\n",
            "Requirement already satisfied: typing-extensions in /usr/local/lib/python3.7/dist-packages (from torch>=1.11.0->pyro-ppl) (4.2.0)\n",
            "Installing collected packages: pyro-api, pyro-ppl\n",
            "Successfully installed pyro-api-0.1.2 pyro-ppl-1.8.1\n",
            "Collecting Biopython\n",
            "  Downloading biopython-1.79-cp37-cp37m-manylinux_2_5_x86_64.manylinux1_x86_64.whl (2.3 MB)\n",
            "\u001b[K     |████████████████████████████████| 2.3 MB 30.6 MB/s \n",
            "\u001b[?25hRequirement already satisfied: numpy in /usr/local/lib/python3.7/dist-packages (from Biopython) (1.21.6)\n",
            "Installing collected packages: Biopython\n",
            "Successfully installed Biopython-1.79\n"
          ]
        }
      ]
    },
    {
      "cell_type": "code",
      "source": [
        "import pyro\n",
        "import torch\n",
        "from helper import *\n",
        "from PyroModel import *\n",
        "from JAXFunctions import *\n",
        "from Error_measure import *\n",
        "from torch.optim import Adam\n",
        "from tqdm import tqdm\n",
        "import matplotlib.pyplot as plt\n",
        "from pyro.infer import SVI, Trace_ELBO\n",
        "from sklearn.manifold import TSNE\n",
        "from scipy.stats import spearmanr, pearsonr\n",
        "import os\n",
        "import math\n",
        "\n",
        "from ASR import ASR"
      ],
      "metadata": {
        "id": "fZVkHYAaqeVW"
      },
      "execution_count": null,
      "outputs": []
    },
    {
      "cell_type": "code",
      "source": [
        "batch_size = 128"
      ],
      "metadata": {
        "id": "maM_QnPBqgPn"
      },
      "execution_count": null,
      "outputs": []
    },
    {
      "cell_type": "code",
      "source": [
        "AA_dict, back_AA_dict = get_AA_dict(n_c=24)\n",
        "S, S_names, S_lengths, S_char = load_Unaligned_Data(leaf_seq_path, \"cuda\", AA_dict)\n",
        "\n",
        "_, Anc_names, Anc_lengths, Anc_char = load_Unaligned_Data(ancestor_path, \"cuda\", AA_dict)\n",
        "Anc_names[Anc_names.index(\"Node1 The root\")] = \"Node1\""
      ],
      "metadata": {
        "id": "0S9TaGVNqOe0"
      },
      "execution_count": null,
      "outputs": []
    },
    {
      "cell_type": "code",
      "source": [
        "def get_true_tree_distances_including_ancestors(true_tree_path, S_names, ancestor_names):\n",
        "    \"\"\"\n",
        "    Only work for simulation data\n",
        "    Since the names of simulated ancestors are just numbers, Biopython will interpret them as \"confidence\" by default\n",
        "    And there is no name/confidence for root\n",
        "\n",
        "    \"\"\"\n",
        "    t = Phylo.read(true_tree_path, \"newick\")\n",
        "    nodes = t.get_terminals() + t.get_nonterminals()\n",
        "    mat = np.zeros([len(nodes), len(nodes)])\n",
        "    names = S_names + ancestor_names\n",
        "\n",
        "    for x, y in itertools.combinations(nodes, 2):\n",
        "        v = t.distance(x, y)\n",
        "        x_name = \"Node\" + str(x.confidence) if x.confidence is not None else \"Node1\" if x.name is None else x.name\n",
        "        y_name = \"Node\" + str(y.confidence) if y.confidence is not None else \"Node1\" if y.name is None else y.name\n",
        "        idx, idy = names.index(x_name), names.index(y_name)\n",
        "        mat[idx][idy] = v\n",
        "        mat[idy][idx] = v\n",
        "    return mat"
      ],
      "metadata": {
        "id": "lWnhfJie7gLs"
      },
      "execution_count": null,
      "outputs": []
    },
    {
      "cell_type": "code",
      "source": [
        "# true_tree_distances_including_ancestors = get_true_tree_distances_including_ancestors(tree_path, S_names, Anc_names)\n",
        "# true_tree_distances = true_tree_distances_including_ancestors[:len(S_names), :len(S_names)]\n",
        "\n",
        "import pickle\n",
        "\n",
        "# with open(\"matrix.txt\", \"wb\") as f:\n",
        "#     pickle.dump(true_tree_distances_including_ancestors, f)\n",
        "with open(\"matrix.txt\", \"rb\") as f:\n",
        "    true_tree_distances_including_ancestors = pickle.load(f)\n",
        "true_tree_distances = true_tree_distances_including_ancestors[:len(S_names), :len(S_names)]"
      ],
      "metadata": {
        "id": "jUQQU1Ka7liV"
      },
      "execution_count": null,
      "outputs": []
    },
    {
      "cell_type": "code",
      "source": [
        "true_tree_distances_including_ancestors.shape, true_tree_distances.shape"
      ],
      "metadata": {
        "colab": {
          "base_uri": "https://localhost:8080/"
        },
        "id": "kQWAe5lR-4du",
        "outputId": "152095fe-f5bd-4e02-bf19-6143ca3b728c"
      },
      "execution_count": null,
      "outputs": [
        {
          "output_type": "execute_result",
          "data": {
            "text/plain": [
              "((2047, 2047), (1024, 1024))"
            ]
          },
          "metadata": {},
          "execution_count": 8
        }
      ]
    },
    {
      "cell_type": "code",
      "source": [
        "pyro.clear_param_store()\n",
        "vae = VAE(50, 24, S.shape[1])"
      ],
      "metadata": {
        "id": "EgJoIaPf7s6a"
      },
      "execution_count": null,
      "outputs": []
    },
    {
      "cell_type": "code",
      "source": [
        "def per_param_callable(module_name, param_name):\n",
        "    return {\"lr\": 0.001, \"clip_norm\": 10}\n",
        "optimizer = pyro.optim.ClippedAdam(per_param_callable)\n",
        "svi = SVI(vae.standard_asr_batched_model, vae.standard_asr_batched_guide, optimizer, loss=Trace_ELBO(num_particles=1))"
      ],
      "metadata": {
        "id": "DS3u43qw707-"
      },
      "execution_count": null,
      "outputs": []
    },
    {
      "cell_type": "code",
      "source": [
        "ELBOs = []\n",
        "\n",
        "Rec_Acc = []\n",
        "Rec_Acc_remove_gap = []"
      ],
      "metadata": {
        "id": "kZYFX8JS73_z"
      },
      "execution_count": null,
      "outputs": []
    },
    {
      "cell_type": "code",
      "source": [
        "for b in tqdm(range(401)):\n",
        "    indices = np.random.choice(S.shape[0], S.shape[0], False)\n",
        "    elbos = []\n",
        "    for batch in range(S.shape[0] // batch_size - 1):\n",
        "      batch_idx = indices[batch * batch_size: batch * batch_size + batch_size]\n",
        "      back_idx = indices[S.shape[0] // batch_size * batch_size - batch_size:]\n",
        "      all_idx = np.concatenate([back_idx, batch_idx])\n",
        "      elbo = svi.step(aligned_S=S[batch_idx], \n",
        "               aligned_S_back=S[back_idx],\n",
        "               batch_distance=torch.from_numpy(true_tree_distances[all_idx][:, all_idx]).float().to(vae.device), \n",
        "               num_batch=S.shape[0] // batch_size - 1)\n",
        "      elbos.append(elbo)\n",
        "    ELBOs.append(sum(elbos) / len(elbos))\n",
        "\n",
        "  \n",
        "    if b % 10 == 0:\n",
        "        with torch.no_grad():\n",
        "            # Rec ACC\n",
        "            S_onehot = torch.zeros_like(S[:, :, None]).expand([-1, -1, 24]).clone().scatter_(-1, S[:, :, None], 1)\n",
        "            S_onehot = S_onehot[:, :, :].float().cuda()\n",
        "           \n",
        "            Z_loc = vae.encoder(S_onehot, None)\n",
        "            re_MSA = vae.decoder.forward(None, Z_loc, False)\n",
        "\n",
        "            Rec_Acc_remove_gap.append(np.mean(reconstruction_accuracy(re_MSA, S_onehot, gap_index=23, remove_gap=True)))\n",
        "            Rec_Acc.append(np.mean(reconstruction_accuracy(re_MSA, S_onehot, gap_index=23, remove_gap=False)))\n",
        "          \n",
        "# Distances Correlation\n",
        "latent_distance = 1 - torch.sum(Z_loc[None, :, :] * Z_loc[:, None, :], dim=-1) / torch.norm(Z_loc, p=2, dim=-1)[None, :] / torch.norm(Z_loc, p=2, dim=-1)[:, None]\n",
        "latent_distance = torch.norm(Z_loc[None, :, :] - Z_loc[:, None, :], dim=-1)\n",
        "latent_distance_upper = latent_distance[torch.triu_indices(S.shape[0], S.shape[0], 1)[0], torch.triu_indices(S.shape[0], S.shape[0], 1)[1]]\n",
        "real_distance_upper = true_tree_distances[torch.triu_indices(S.shape[0], S.shape[0], 1)[0], torch.triu_indices(S.shape[0], S.shape[0], 1)[1]]\n",
        "Spearmans = spearmanr(latent_distance_upper.cpu(), real_distance_upper)[0]\n",
        "Pearsonss = pearsonr(latent_distance_upper.cpu(), real_distance_upper)[0]\n",
        "\n",
        "# ASR ACC\n",
        "sigma_f = pyro.param(\"sigma_f_loc\")\n",
        "sigma_n = pyro.param(\"sigma_n_loc\")\n",
        "lambd = pyro.param(\"lambd_loc\")\n",
        "\n",
        "cov = torch.from_numpy(true_tree_distances_including_ancestors).to(vae.device).float()[np.newaxis, :, :].expand([vae.n_z, true_tree_distances_including_ancestors.shape[0], true_tree_distances_including_ancestors.shape[0]]) / lambd[:, np.newaxis, np.newaxis]\n",
        "cov = (torch.exp(-cov) * sigma_f[:, np.newaxis, np.newaxis] ** 2 + torch.eye(cov.shape[1], device=vae.device)[np.newaxis, :, :] * sigma_n[:, np.newaxis, np.newaxis] ** 2)\n",
        "cov_tips = cov[:, :len(S_names), :len(S_names)]\n",
        "cov_anc = cov[:, len(S_names):, len(S_names):]\n",
        "con_tips_anc = cov[:, len(S_names):, :len(S_names)]\n",
        "\n",
        "rec_anc = ASR(Z_loc, cov_tips, cov_anc, con_tips_anc, decoder=lambda x: vae.decoder(None, x, False))\n",
        "rec_anc = tensor2char(rec_anc, back_AA_dict)\n",
        "# accs = asr_accuracy(Anc_char, rec_anc)\n",
        "# ASR_Acc.append(np.mean(accs))\n",
        "# ASR_Acc_std.append(np.std(accs))\n",
        "# ASR_Acc_max.append(np.max(accs))\n",
        "# ASR_Acc_min.append(np.min(accs))\n",
        "\n",
        "# LCA ASR ACC\n",
        "t = Phylo.read(tree_path, \"newick\")\n",
        "tips = t.get_terminals()\n",
        "ground = []\n",
        "predicts = []\n",
        "for i in range(len(tips)):\n",
        "    for j in range(i+1, len(tips)):\n",
        "        lca = t.common_ancestor(tips[i], tips[j])\n",
        "        lca_name = \"Node\" + str(lca.confidence) if lca.confidence is not None else \"Node1\" \n",
        "        lca_index = Anc_names.index(lca_name)\n",
        "        ground.append(Anc_char[lca_index])\n",
        "        predicts.append(rec_anc[lca_index])\n",
        "accs = asr_accuracy(ground, predicts)\n",
        "LCA_ASR_Acc = np.mean(accs)\n",
        "LCA_ASR_Acc_std = np.std(accs)\n",
        "LCA_ASR_Acc_max = np.max(accs)\n",
        "LCA_ASR_Acc_min = np.min(accs)"
      ],
      "metadata": {
        "colab": {
          "base_uri": "https://localhost:8080/"
        },
        "id": "xWZIR9lJ7_Bv",
        "outputId": "8aec9c9a-2321-4f02-c634-10ea78e1b33c"
      },
      "execution_count": null,
      "outputs": [
        {
          "output_type": "stream",
          "name": "stderr",
          "text": [
            "\r  0%|          | 0/401 [00:00<?, ?it/s]/usr/local/lib/python3.7/dist-packages/torch/distributions/gamma.py:71: UserWarning: Specified kernel cache directory could not be created! This disables kernel caching. Specified directory is /root/.cache/torch/kernels. This warning will appear only once per process. (Triggered internally at  ../aten/src/ATen/native/cuda/jit_utils.cpp:860.)\n",
            "  self.rate * value - torch.lgamma(self.concentration))\n",
            "100%|██████████| 401/401 [25:59<00:00,  3.89s/it]\n"
          ]
        }
      ]
    },
    {
      "cell_type": "code",
      "source": [
        "plt.rcParams[\"figure.figsize\"] = (6, 4)\n",
        "plt.plot(ELBOs)"
      ],
      "metadata": {
        "colab": {
          "base_uri": "https://localhost:8080/",
          "height": 294
        },
        "id": "qhoZ-g7SAN7C",
        "outputId": "e972946e-6f86-465b-9aa2-a2b28cd8f35a"
      },
      "execution_count": null,
      "outputs": [
        {
          "output_type": "execute_result",
          "data": {
            "text/plain": [
              "[<matplotlib.lines.Line2D at 0x7f1164048b90>]"
            ]
          },
          "metadata": {},
          "execution_count": 13
        },
        {
          "output_type": "display_data",
          "data": {
            "text/plain": [
              "<Figure size 432x288 with 1 Axes>"
            ],
            "image/png": "[encoded data removed]"
          },
          "metadata": {
            "needs_background": "light"
          }
        }
      ]
    },
    {
      "cell_type": "code",
      "source": [
        "print(Spearmans, Pearsonss)"
      ],
      "metadata": {
        "colab": {
          "base_uri": "https://localhost:8080/"
        },
        "id": "MLWqrZ6SAhgK",
        "outputId": "feafd534-194f-4792-b192-ecb21ea7f061"
      },
      "execution_count": null,
      "outputs": [
        {
          "output_type": "stream",
          "name": "stdout",
          "text": [
            "0.4200116433501106 0.555179245564891\n"
          ]
        }
      ]
    },
    {
      "cell_type": "code",
      "source": [
        "LCA_ASR_Acc, LCA_ASR_Acc_std, LCA_ASR_Acc_max, LCA_ASR_Acc_min"
      ],
      "metadata": {
        "colab": {
          "base_uri": "https://localhost:8080/"
        },
        "id": "Q7xpu9yVArOv",
        "outputId": "bd3ae251-17cb-451f-e1b3-496971fc496b"
      },
      "execution_count": null,
      "outputs": [
        {
          "output_type": "execute_result",
          "data": {
            "text/plain": [
              "(0.3773416875481014,\n",
              " 0.05894505846036393,\n",
              " 0.9902597402597403,\n",
              " 0.32344213649851633)"
            ]
          },
          "metadata": {},
          "execution_count": 15
        }
      ]
    },
    {
      "cell_type": "code",
      "source": [
        ""
      ],
      "metadata": {
        "id": "Y1OwK0bdAv40"
      },
      "execution_count": null,
      "outputs": []
    }
  ]
}