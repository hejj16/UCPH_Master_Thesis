{
  "nbformat": 4,
  "nbformat_minor": 0,
  "metadata": {
    "colab": {
      "name": "Model_1.ipynb（副本）",
      "provenance": [],
      "collapsed_sections": []
    },
    "kernelspec": {
      "name": "python3",
      "display_name": "Python 3"
    },
    "language_info": {
      "name": "python"
    },
    "accelerator": "GPU"
  },
  "cells": [
    {
      "cell_type": "markdown",
      "source": [
        "# Model 1:\n",
        "\n",
        "Batched Draupnir Model\n",
        "\n",
        "\n",
        "Model details:\n",
        "\n",
        "|Flavor|Included or Not|\n",
        "|:---------:|:-----:|\n",
        "|Unaligned Sequences| |\n",
        "|Latent Tree| |\n",
        "|Batched Input|×|\n",
        "\n",
        "\n"
      ],
      "metadata": {
        "id": "oe1vb1-RqG-Y"
      }
    },
    {
      "cell_type": "code",
      "source": [
        "leaf_seq_path = \"/content/realign_MSA.fas\"\n",
        "ancestor_path = \"/content/_pep_Unaligned_Internal_Nodes.FASTA\"\n",
        "tree_path = \"/content/_True_Rooted_tree_node_labels.tre\""
      ],
      "metadata": {
        "id": "66lK_OXp7Rfl"
      },
      "execution_count": null,
      "outputs": []
    },
    {
      "cell_type": "code",
      "source": [
        "! pip install pyro-ppl\n",
        "! pip install Biopython"
      ],
      "metadata": {
        "colab": {
          "base_uri": "https://localhost:8080/"
        },
        "id": "JHfBNQTiqcvp",
        "outputId": "97a73265-a95f-4f60-9cba-394786541391"
      },
      "execution_count": null,
      "outputs": [
        {
          "output_type": "stream",
          "name": "stdout",
          "text": [
            "Requirement already satisfied: pyro-ppl in /usr/local/lib/python3.7/dist-packages (1.8.1)\n",
            "Requirement already satisfied: numpy>=1.7 in /usr/local/lib/python3.7/dist-packages (from pyro-ppl) (1.21.6)\n",
            "Requirement already satisfied: tqdm>=4.36 in /usr/local/lib/python3.7/dist-packages (from pyro-ppl) (4.64.0)\n",
            "Requirement already satisfied: opt-einsum>=2.3.2 in /usr/local/lib/python3.7/dist-packages (from pyro-ppl) (3.3.0)\n",
            "Requirement already satisfied: torch>=1.11.0 in /usr/local/lib/python3.7/dist-packages (from pyro-ppl) (1.11.0+cu113)\n",
            "Requirement already satisfied: pyro-api>=0.1.1 in /usr/local/lib/python3.7/dist-packages (from pyro-ppl) (0.1.2)\n",
            "Requirement already satisfied: typing-extensions in /usr/local/lib/python3.7/dist-packages (from torch>=1.11.0->pyro-ppl) (4.2.0)\n",
            "Requirement already satisfied: Biopython in /usr/local/lib/python3.7/dist-packages (1.79)\n",
            "Requirement already satisfied: numpy in /usr/local/lib/python3.7/dist-packages (from Biopython) (1.21.6)\n"
          ]
        }
      ]
    },
    {
      "cell_type": "code",
      "source": [
        "import pyro\n",
        "import torch\n",
        "from helper import *\n",
        "from PyroModel import *\n",
        "from JAXFunctions import *\n",
        "from Error_measure import *\n",
        "from torch.optim import Adam\n",
        "from tqdm import tqdm\n",
        "import matplotlib.pyplot as plt\n",
        "from pyro.infer import SVI, Trace_ELBO\n",
        "from sklearn.manifold import TSNE\n",
        "from scipy.stats import spearmanr, pearsonr\n",
        "import os\n",
        "import math\n",
        "\n",
        "from ASR import ASR"
      ],
      "metadata": {
        "id": "fZVkHYAaqeVW"
      },
      "execution_count": null,
      "outputs": []
    },
    {
      "cell_type": "code",
      "source": [
        "batch_size = 128"
      ],
      "metadata": {
        "id": "maM_QnPBqgPn"
      },
      "execution_count": null,
      "outputs": []
    },
    {
      "cell_type": "code",
      "source": [
        "AA_dict, back_AA_dict = get_AA_dict(n_c=24)\n",
        "S, S_names, S_char = load_MSA_Data(leaf_seq_path, \"cuda\", AA_dict)\n",
        "\n",
        "_, Anc_names, Anc_lengths, Anc_char = load_Unaligned_Data(ancestor_path, \"cuda\", AA_dict)\n",
        "Anc_names[Anc_names.index(\"Node1 The root\")] = \"Node1\""
      ],
      "metadata": {
        "id": "0S9TaGVNqOe0"
      },
      "execution_count": null,
      "outputs": []
    },
    {
      "cell_type": "code",
      "source": [
        "def get_true_tree_distances_including_ancestors(true_tree_path, S_names, ancestor_names):\n",
        "    \"\"\"\n",
        "    Only work for simulation data\n",
        "    Since the names of simulated ancestors are just numbers, Biopython will interpret them as \"confidence\" by default\n",
        "    And there is no name/confidence for root\n",
        "\n",
        "    \"\"\"\n",
        "    t = Phylo.read(true_tree_path, \"newick\")\n",
        "    nodes = t.get_terminals() + t.get_nonterminals()\n",
        "    mat = np.zeros([len(nodes), len(nodes)])\n",
        "    names = S_names + ancestor_names\n",
        "\n",
        "    for x, y in tqdm(itertools.combinations(nodes, 2)):\n",
        "        v = t.distance(x, y)\n",
        "        x_name = \"Node\" + str(x.confidence) if x.confidence is not None else \"Node1\" if x.name is None else x.name\n",
        "        y_name = \"Node\" + str(y.confidence) if y.confidence is not None else \"Node1\" if y.name is None else y.name\n",
        "        idx, idy = names.index(x_name), names.index(y_name)\n",
        "        mat[idx][idy] = v\n",
        "        mat[idy][idx] = v\n",
        "    return mat"
      ],
      "metadata": {
        "id": "lWnhfJie7gLs"
      },
      "execution_count": null,
      "outputs": []
    },
    {
      "cell_type": "code",
      "source": [
        "# true_tree_distances_including_ancestors = get_true_tree_distances_including_ancestors(tree_path, S_names, Anc_names)\n",
        "# true_tree_distances = true_tree_distances_including_ancestors[:len(S_names), :len(S_names)]\n",
        "\n",
        "import pickle\n",
        "\n",
        "# with open(\"matrix.txt\", \"wb\") as f:\n",
        "#     pickle.dump(true_tree_distances_including_ancestors, f)\n",
        "with open(\"matrix.txt\", \"rb\") as f:\n",
        "    true_tree_distances_including_ancestors = pickle.load(f)\n",
        "true_tree_distances = true_tree_distances_including_ancestors[:len(S_names), :len(S_names)]"
      ],
      "metadata": {
        "id": "jUQQU1Ka7liV"
      },
      "execution_count": null,
      "outputs": []
    },
    {
      "cell_type": "code",
      "source": [
        "true_tree_distances_including_ancestors.shape, true_tree_distances.shape"
      ],
      "metadata": {
        "colab": {
          "base_uri": "https://localhost:8080/"
        },
        "id": "kQWAe5lR-4du",
        "outputId": "f9f6ba31-d81d-4d37-9b39-906b187fd386"
      },
      "execution_count": null,
      "outputs": [
        {
          "output_type": "execute_result",
          "data": {
            "text/plain": [
              "((2047, 2047), (1024, 1024))"
            ]
          },
          "metadata": {},
          "execution_count": 28
        }
      ]
    },
    {
      "cell_type": "code",
      "source": [
        "pyro.clear_param_store()\n",
        "vae = VAE(50, 24, S.shape[1])"
      ],
      "metadata": {
        "id": "EgJoIaPf7s6a"
      },
      "execution_count": null,
      "outputs": []
    },
    {
      "cell_type": "code",
      "source": [
        "def per_param_callable(module_name, param_name):\n",
        "    if param_name in [\"sigma_f_loc\", \"sigma_n_loc\", \"lambd_loc\"]:\n",
        "        return {\"lr\": 1e-4, \"clip_norm\": 10}\n",
        "    else:\n",
        "        return {\"lr\": 0.001, \"clip_norm\": 10}\n",
        "optimizer = pyro.optim.ClippedAdam(per_param_callable)\n",
        "svi = SVI(vae.standard_asr_batched_model, vae.standard_asr_batched_guide, optimizer, loss=Trace_ELBO(num_particles=1))"
      ],
      "metadata": {
        "id": "DS3u43qw707-"
      },
      "execution_count": null,
      "outputs": []
    },
    {
      "cell_type": "code",
      "source": [
        "ELBOs = []\n",
        "\n",
        "Rec_Acc = []\n",
        "Rec_Acc_remove_gap = []"
      ],
      "metadata": {
        "id": "kZYFX8JS73_z"
      },
      "execution_count": null,
      "outputs": []
    },
    {
      "cell_type": "code",
      "source": [
        "for b in tqdm(range(300)):\n",
        "    indices = np.random.choice(S.shape[0], S.shape[0], False)\n",
        "    elbos = []\n",
        "    for batch in range(S.shape[0] // batch_size - 1):\n",
        "      batch_idx = indices[batch * batch_size: batch * batch_size + batch_size]\n",
        "      back_idx = indices[S.shape[0] // batch_size * batch_size - batch_size:]\n",
        "      all_idx = np.concatenate([back_idx, batch_idx])\n",
        "      elbo = svi.step(aligned_S=S[batch_idx], \n",
        "               aligned_S_back=S[back_idx],\n",
        "               batch_distance=torch.from_numpy(true_tree_distances[all_idx][:, all_idx]).float().to(vae.device), \n",
        "               num_batch=S.shape[0] // batch_size - 1)\n",
        "      elbos.append(elbo)\n",
        "    ELBOs.append(sum(elbos) / len(elbos))\n",
        "\n",
        "  \n",
        "    if b % 10 == 0:\n",
        "        with torch.no_grad():\n",
        "            # Rec ACC\n",
        "            S_onehot = torch.zeros_like(S[:, :, None]).expand([-1, -1, 24]).clone().scatter_(-1, S[:, :, None], 1)\n",
        "            S_onehot = S_onehot[:, :, :].float().cuda()\n",
        "           \n",
        "            Z_loc = vae.encoder(S_onehot, None)\n",
        "            re_MSA = vae.decoder.forward(None, Z_loc, False)\n",
        "\n",
        "            Rec_Acc_remove_gap.append(np.mean(reconstruction_accuracy(re_MSA, S_onehot, gap_index=23, remove_gap=True)))\n",
        "            Rec_Acc.append(np.mean(reconstruction_accuracy(re_MSA, S_onehot, gap_index=23, remove_gap=False)))\n",
        "          \n",
        "# Distances Correlation\n",
        "latent_distance = 1 - torch.sum(Z_loc[None, :, :] * Z_loc[:, None, :], dim=-1) / torch.norm(Z_loc, p=2, dim=-1)[None, :] / torch.norm(Z_loc, p=2, dim=-1)[:, None]\n",
        "latent_distance = torch.norm(Z_loc[None, :, :] - Z_loc[:, None, :], dim=-1)\n",
        "latent_distance_upper = latent_distance[torch.triu_indices(S.shape[0], S.shape[0], 1)[0], torch.triu_indices(S.shape[0], S.shape[0], 1)[1]]\n",
        "real_distance_upper = true_tree_distances[torch.triu_indices(S.shape[0], S.shape[0], 1)[0], torch.triu_indices(S.shape[0], S.shape[0], 1)[1]]\n",
        "Spearmans = spearmanr(latent_distance_upper.cpu(), real_distance_upper)[0]\n",
        "Pearsonss = pearsonr(latent_distance_upper.cpu(), real_distance_upper)[0]\n",
        "\n",
        "# ASR ACC\n",
        "sigma_f = pyro.param(\"sigma_f_loc\")\n",
        "sigma_n = pyro.param(\"sigma_n_loc\")\n",
        "lambd = pyro.param(\"lambd_loc\")\n",
        "\n",
        "cov = torch.from_numpy(true_tree_distances_including_ancestors).to(vae.device).float()[np.newaxis, :, :].expand([vae.n_z, true_tree_distances_including_ancestors.shape[0], true_tree_distances_including_ancestors.shape[0]]) / lambd[:, np.newaxis, np.newaxis]\n",
        "cov = (torch.exp(-cov) * sigma_f[:, np.newaxis, np.newaxis] ** 2 + torch.eye(cov.shape[1], device=vae.device)[np.newaxis, :, :] * sigma_n[:, np.newaxis, np.newaxis] ** 2)\n",
        "cov_tips = cov[:, :len(S_names), :len(S_names)]\n",
        "cov_anc = cov[:, len(S_names):, len(S_names):]\n",
        "con_tips_anc = cov[:, len(S_names):, :len(S_names)]\n",
        "\n",
        "rec_anc = ASR(Z_loc, cov_tips, cov_anc, con_tips_anc, decoder=lambda x: vae.decoder(None, x, False))\n",
        "rec_anc = tensor2char(rec_anc, back_AA_dict)\n",
        "# accs = asr_accuracy(Anc_char, rec_anc)\n",
        "# ASR_Acc.append(np.mean(accs))\n",
        "# ASR_Acc_std.append(np.std(accs))\n",
        "# ASR_Acc_max.append(np.max(accs))\n",
        "# ASR_Acc_min.append(np.min(accs))\n",
        "\n",
        "# LCA ASR ACC\n",
        "t = Phylo.read(tree_path, \"newick\")\n",
        "tips = t.get_terminals()\n",
        "ground = []\n",
        "predicts = []\n",
        "for i in tqdm(range(len(tips))):\n",
        "    for j in range(i+1, len(tips)):\n",
        "        lca = t.common_ancestor(tips[i], tips[j])\n",
        "        lca_name = \"Node\" + str(lca.confidence) if lca.confidence is not None else \"Node1\" \n",
        "        lca_index = Anc_names.index(lca_name)\n",
        "        ground.append(Anc_char[lca_index])\n",
        "        predicts.append(rec_anc[lca_index])\n",
        "accs = asr_accuracy(ground, predicts)\n",
        "LCA_ASR_Acc = np.mean(accs)\n",
        "LCA_ASR_Acc_std = np.std(accs)\n",
        "LCA_ASR_Acc_max = np.max(accs)\n",
        "LCA_ASR_Acc_min = np.min(accs)"
      ],
      "metadata": {
        "colab": {
          "base_uri": "https://localhost:8080/"
        },
        "id": "xWZIR9lJ7_Bv",
        "outputId": "4bc1b165-e3bb-4508-bba1-1cded73fe653"
      },
      "execution_count": null,
      "outputs": [
        {
          "output_type": "stream",
          "name": "stderr",
          "text": [
            "100%|██████████| 300/300 [34:02<00:00,  6.81s/it]\n",
            "100%|██████████| 1024/1024 [07:16<00:00,  2.35it/s]\n"
          ]
        }
      ]
    },
    {
      "cell_type": "code",
      "source": [
        "plt.rcParams[\"figure.figsize\"] = (6, 4)\n",
        "plt.plot(ELBOs)"
      ],
      "metadata": {
        "colab": {
          "base_uri": "https://localhost:8080/",
          "height": 294
        },
        "id": "qhoZ-g7SAN7C",
        "outputId": "ee398eec-4d9f-4082-bcdd-f70cfa4d123e"
      },
      "execution_count": null,
      "outputs": [
        {
          "output_type": "execute_result",
          "data": {
            "text/plain": [
              "[<matplotlib.lines.Line2D at 0x7f3cd9bb6150>]"
            ]
          },
          "metadata": {},
          "execution_count": 33
        },
        {
          "output_type": "display_data",
          "data": {
            "text/plain": [
              "<Figure size 432x288 with 1 Axes>"
            ],
            "image/png": "[encoded data removed]"
          },
          "metadata": {
            "needs_background": "light"
          }
        }
      ]
    },
    {
      "cell_type": "code",
      "source": [
        "print(Spearmans, Pearsonss)"
      ],
      "metadata": {
        "colab": {
          "base_uri": "https://localhost:8080/"
        },
        "id": "MLWqrZ6SAhgK",
        "outputId": "76635a56-c568-4c9f-8b19-7edf877dd65c"
      },
      "execution_count": null,
      "outputs": [
        {
          "output_type": "stream",
          "name": "stdout",
          "text": [
            "0.6501747260677502 0.7646194123459653\n"
          ]
        }
      ]
    },
    {
      "cell_type": "code",
      "source": [
        "LCA_ASR_Acc, LCA_ASR_Acc_std, LCA_ASR_Acc_max, LCA_ASR_Acc_min"
      ],
      "metadata": {
        "colab": {
          "base_uri": "https://localhost:8080/"
        },
        "id": "Q7xpu9yVArOv",
        "outputId": "2eec8f77-dad5-47d7-85e6-0b1254d94966"
      },
      "execution_count": null,
      "outputs": [
        {
          "output_type": "execute_result",
          "data": {
            "text/plain": [
              "(0.7899774075342464, 0.036968465583345864, 1.0, 0.7398648648648649)"
            ]
          },
          "metadata": {},
          "execution_count": 35
        }
      ]
    },
    {
      "cell_type": "code",
      "source": [
        "plt.rcParams[\"figure.figsize\"] = (6, 4)\n",
        "plt.plot(np.arange(len(Rec_Acc)) * 10, Rec_Acc)\n",
        "plt.plot(np.arange(len(Rec_Acc_remove_gap)) * 10, Rec_Acc_remove_gap)\n",
        "plt.ylim(-0.01, 1.01)\n",
        "plt.yticks(np.arange(0, 1.01, 0.1))\n",
        "print(max(Rec_Acc_remove_gap[1:]))"
      ],
      "metadata": {
        "id": "Y1OwK0bdAv40",
        "colab": {
          "base_uri": "https://localhost:8080/",
          "height": 285
        },
        "outputId": "fffb779a-7a19-4176-a99c-d3d8d4ef144d"
      },
      "execution_count": null,
      "outputs": [
        {
          "output_type": "stream",
          "name": "stdout",
          "text": [
            "0.9972679610860404\n"
          ]
        },
        {
          "output_type": "display_data",
          "data": {
            "text/plain": [
              "<Figure size 432x288 with 1 Axes>"
            ],
            "image/png": "[encoded data removed]"
          },
          "metadata": {
            "needs_background": "light"
          }
        }
      ]
    },
    {
      "cell_type": "code",
      "source": [
        ""
      ],
      "metadata": {
        "id": "45HIh5aLj1W-"
      },
      "execution_count": null,
      "outputs": []
    }
  ]
}