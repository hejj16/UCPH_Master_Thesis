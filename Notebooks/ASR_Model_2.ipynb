{
  "nbformat": 4,
  "nbformat_minor": 0,
  "metadata": {
    "colab": {
      "name": "Model_2.ipynb（副本）",
      "provenance": [],
      "collapsed_sections": []
    },
    "kernelspec": {
      "name": "python3",
      "display_name": "Python 3"
    },
    "language_info": {
      "name": "python"
    },
    "accelerator": "GPU"
  },
  "cells": [
    {
      "cell_type": "markdown",
      "source": [
        "# Model 2:\n",
        "\n",
        "Batched Draupnir Model with latent tree\n",
        "\n",
        "\n",
        "Model details:\n",
        "\n",
        "|Flavor|Included or Not|\n",
        "|:---------:|:-----:|\n",
        "|Unaligned Sequences| |\n",
        "|Latent Tree|×|\n",
        "|Batched Input|×|\n",
        "\n",
        "\n"
      ],
      "metadata": {
        "id": "oe1vb1-RqG-Y"
      }
    },
    {
      "cell_type": "code",
      "source": [
        "leaf_seq_path = \"/content/realign_MSA.fas\"\n",
        "ancestor_path = \"/content/_pep_Unaligned_Internal_Nodes.FASTA\"\n",
        "tree_path = \"/content/_True_Rooted_tree_node_labels.tre\""
      ],
      "metadata": {
        "id": "66lK_OXp7Rfl"
      },
      "execution_count": null,
      "outputs": []
    },
    {
      "cell_type": "code",
      "source": [
        "! pip install pyro-ppl\n",
        "! pip install Biopython"
      ],
      "metadata": {
        "colab": {
          "base_uri": "https://localhost:8080/"
        },
        "id": "JHfBNQTiqcvp",
        "outputId": "c10beaa8-871d-4ac4-c898-eb85a14704d4"
      },
      "execution_count": null,
      "outputs": [
        {
          "output_type": "stream",
          "name": "stdout",
          "text": [
            "Collecting pyro-ppl\n",
            "  Downloading pyro_ppl-1.8.1-py3-none-any.whl (718 kB)\n",
            "\u001b[?25l\r\u001b[K     |▌                               | 10 kB 33.5 MB/s eta 0:00:01\r\u001b[K     |█                               | 20 kB 9.6 MB/s eta 0:00:01\r\u001b[K     |█▍                              | 30 kB 8.4 MB/s eta 0:00:01\r\u001b[K     |█▉                              | 40 kB 8.0 MB/s eta 0:00:01\r\u001b[K     |██▎                             | 51 kB 4.3 MB/s eta 0:00:01\r\u001b[K     |██▊                             | 61 kB 5.1 MB/s eta 0:00:01\r\u001b[K     |███▏                            | 71 kB 5.2 MB/s eta 0:00:01\r\u001b[K     |███▋                            | 81 kB 5.2 MB/s eta 0:00:01\r\u001b[K     |████                            | 92 kB 5.8 MB/s eta 0:00:01\r\u001b[K     |████▋                           | 102 kB 4.9 MB/s eta 0:00:01\r\u001b[K     |█████                           | 112 kB 4.9 MB/s eta 0:00:01\r\u001b[K     |█████▌                          | 122 kB 4.9 MB/s eta 0:00:01\r\u001b[K     |██████                          | 133 kB 4.9 MB/s eta 0:00:01\r\u001b[K     |██████▍                         | 143 kB 4.9 MB/s eta 0:00:01\r\u001b[K     |██████▉                         | 153 kB 4.9 MB/s eta 0:00:01\r\u001b[K     |███████▎                        | 163 kB 4.9 MB/s eta 0:00:01\r\u001b[K     |███████▊                        | 174 kB 4.9 MB/s eta 0:00:01\r\u001b[K     |████████▏                       | 184 kB 4.9 MB/s eta 0:00:01\r\u001b[K     |████████▊                       | 194 kB 4.9 MB/s eta 0:00:01\r\u001b[K     |█████████▏                      | 204 kB 4.9 MB/s eta 0:00:01\r\u001b[K     |█████████▋                      | 215 kB 4.9 MB/s eta 0:00:01\r\u001b[K     |██████████                      | 225 kB 4.9 MB/s eta 0:00:01\r\u001b[K     |██████████▌                     | 235 kB 4.9 MB/s eta 0:00:01\r\u001b[K     |███████████                     | 245 kB 4.9 MB/s eta 0:00:01\r\u001b[K     |███████████▍                    | 256 kB 4.9 MB/s eta 0:00:01\r\u001b[K     |███████████▉                    | 266 kB 4.9 MB/s eta 0:00:01\r\u001b[K     |████████████▎                   | 276 kB 4.9 MB/s eta 0:00:01\r\u001b[K     |████████████▊                   | 286 kB 4.9 MB/s eta 0:00:01\r\u001b[K     |█████████████▎                  | 296 kB 4.9 MB/s eta 0:00:01\r\u001b[K     |█████████████▊                  | 307 kB 4.9 MB/s eta 0:00:01\r\u001b[K     |██████████████▏                 | 317 kB 4.9 MB/s eta 0:00:01\r\u001b[K     |██████████████▋                 | 327 kB 4.9 MB/s eta 0:00:01\r\u001b[K     |███████████████                 | 337 kB 4.9 MB/s eta 0:00:01\r\u001b[K     |███████████████▌                | 348 kB 4.9 MB/s eta 0:00:01\r\u001b[K     |████████████████                | 358 kB 4.9 MB/s eta 0:00:01\r\u001b[K     |████████████████▍               | 368 kB 4.9 MB/s eta 0:00:01\r\u001b[K     |████████████████▉               | 378 kB 4.9 MB/s eta 0:00:01\r\u001b[K     |█████████████████▍              | 389 kB 4.9 MB/s eta 0:00:01\r\u001b[K     |█████████████████▉              | 399 kB 4.9 MB/s eta 0:00:01\r\u001b[K     |██████████████████▎             | 409 kB 4.9 MB/s eta 0:00:01\r\u001b[K     |██████████████████▊             | 419 kB 4.9 MB/s eta 0:00:01\r\u001b[K     |███████████████████▏            | 430 kB 4.9 MB/s eta 0:00:01\r\u001b[K     |███████████████████▋            | 440 kB 4.9 MB/s eta 0:00:01\r\u001b[K     |████████████████████            | 450 kB 4.9 MB/s eta 0:00:01\r\u001b[K     |████████████████████▌           | 460 kB 4.9 MB/s eta 0:00:01\r\u001b[K     |█████████████████████           | 471 kB 4.9 MB/s eta 0:00:01\r\u001b[K     |█████████████████████▍          | 481 kB 4.9 MB/s eta 0:00:01\r\u001b[K     |██████████████████████          | 491 kB 4.9 MB/s eta 0:00:01\r\u001b[K     |██████████████████████▍         | 501 kB 4.9 MB/s eta 0:00:01\r\u001b[K     |██████████████████████▉         | 512 kB 4.9 MB/s eta 0:00:01\r\u001b[K     |███████████████████████▎        | 522 kB 4.9 MB/s eta 0:00:01\r\u001b[K     |███████████████████████▊        | 532 kB 4.9 MB/s eta 0:00:01\r\u001b[K     |████████████████████████▏       | 542 kB 4.9 MB/s eta 0:00:01\r\u001b[K     |████████████████████████▋       | 552 kB 4.9 MB/s eta 0:00:01\r\u001b[K     |█████████████████████████       | 563 kB 4.9 MB/s eta 0:00:01\r\u001b[K     |█████████████████████████▌      | 573 kB 4.9 MB/s eta 0:00:01\r\u001b[K     |██████████████████████████      | 583 kB 4.9 MB/s eta 0:00:01\r\u001b[K     |██████████████████████████▌     | 593 kB 4.9 MB/s eta 0:00:01\r\u001b[K     |███████████████████████████     | 604 kB 4.9 MB/s eta 0:00:01\r\u001b[K     |███████████████████████████▍    | 614 kB 4.9 MB/s eta 0:00:01\r\u001b[K     |███████████████████████████▉    | 624 kB 4.9 MB/s eta 0:00:01\r\u001b[K     |████████████████████████████▎   | 634 kB 4.9 MB/s eta 0:00:01\r\u001b[K     |████████████████████████████▊   | 645 kB 4.9 MB/s eta 0:00:01\r\u001b[K     |█████████████████████████████▏  | 655 kB 4.9 MB/s eta 0:00:01\r\u001b[K     |█████████████████████████████▋  | 665 kB 4.9 MB/s eta 0:00:01\r\u001b[K     |██████████████████████████████  | 675 kB 4.9 MB/s eta 0:00:01\r\u001b[K     |██████████████████████████████▋ | 686 kB 4.9 MB/s eta 0:00:01\r\u001b[K     |███████████████████████████████ | 696 kB 4.9 MB/s eta 0:00:01\r\u001b[K     |███████████████████████████████▌| 706 kB 4.9 MB/s eta 0:00:01\r\u001b[K     |████████████████████████████████| 716 kB 4.9 MB/s eta 0:00:01\r\u001b[K     |████████████████████████████████| 718 kB 4.9 MB/s \n",
            "\u001b[?25hCollecting pyro-api>=0.1.1\n",
            "  Downloading pyro_api-0.1.2-py3-none-any.whl (11 kB)\n",
            "Requirement already satisfied: opt-einsum>=2.3.2 in /usr/local/lib/python3.7/dist-packages (from pyro-ppl) (3.3.0)\n",
            "Requirement already satisfied: numpy>=1.7 in /usr/local/lib/python3.7/dist-packages (from pyro-ppl) (1.21.6)\n",
            "Requirement already satisfied: tqdm>=4.36 in /usr/local/lib/python3.7/dist-packages (from pyro-ppl) (4.64.0)\n",
            "Requirement already satisfied: torch>=1.11.0 in /usr/local/lib/python3.7/dist-packages (from pyro-ppl) (1.11.0+cu113)\n",
            "Requirement already satisfied: typing-extensions in /usr/local/lib/python3.7/dist-packages (from torch>=1.11.0->pyro-ppl) (4.2.0)\n",
            "Installing collected packages: pyro-api, pyro-ppl\n",
            "Successfully installed pyro-api-0.1.2 pyro-ppl-1.8.1\n",
            "Collecting Biopython\n",
            "  Downloading biopython-1.79-cp37-cp37m-manylinux_2_5_x86_64.manylinux1_x86_64.whl (2.3 MB)\n",
            "\u001b[K     |████████████████████████████████| 2.3 MB 4.9 MB/s \n",
            "\u001b[?25hRequirement already satisfied: numpy in /usr/local/lib/python3.7/dist-packages (from Biopython) (1.21.6)\n",
            "Installing collected packages: Biopython\n",
            "Successfully installed Biopython-1.79\n"
          ]
        }
      ]
    },
    {
      "cell_type": "code",
      "source": [
        "import pyro\n",
        "import torch\n",
        "from helper import *\n",
        "from PyroModel import *\n",
        "from JAXFunctions import *\n",
        "from Error_measure import *\n",
        "from torch.optim import Adam\n",
        "from tqdm import tqdm\n",
        "import matplotlib.pyplot as plt\n",
        "from pyro.infer import SVI, Trace_ELBO\n",
        "from sklearn.manifold import TSNE\n",
        "from scipy.stats import spearmanr, pearsonr\n",
        "import os\n",
        "import math\n",
        "\n",
        "from ASR import ASR"
      ],
      "metadata": {
        "id": "fZVkHYAaqeVW"
      },
      "execution_count": null,
      "outputs": []
    },
    {
      "cell_type": "code",
      "source": [
        "batch_size = 128"
      ],
      "metadata": {
        "id": "maM_QnPBqgPn"
      },
      "execution_count": null,
      "outputs": []
    },
    {
      "cell_type": "code",
      "source": [
        "AA_dict, back_AA_dict = get_AA_dict(n_c=24)\n",
        "S, S_names, S_char = load_MSA_Data(leaf_seq_path, \"cuda\", AA_dict)\n",
        "\n",
        "_, Anc_names, Anc_lengths, Anc_char = load_Unaligned_Data(ancestor_path, \"cuda\", AA_dict)\n",
        "Anc_names[Anc_names.index(\"Node1 The root\")] = \"Node1\""
      ],
      "metadata": {
        "id": "0S9TaGVNqOe0"
      },
      "execution_count": null,
      "outputs": []
    },
    {
      "cell_type": "code",
      "source": [
        "def get_true_tree_distances_including_ancestors(true_tree_path, S_names, ancestor_names):\n",
        "    \"\"\"\n",
        "    Only work for simulation data\n",
        "    Since the names of simulated ancestors are just numbers, Biopython will interpret them as \"confidence\" by default\n",
        "    And there is no name/confidence for root\n",
        "\n",
        "    \"\"\"\n",
        "    t = Phylo.read(true_tree_path, \"newick\")\n",
        "    nodes = t.get_terminals() + t.get_nonterminals()\n",
        "    mat = np.zeros([len(nodes), len(nodes)])\n",
        "    names = S_names + ancestor_names\n",
        "\n",
        "    for x, y in itertools.combinations(nodes, 2):\n",
        "        v = t.distance(x, y)\n",
        "        x_name = \"Node\" + str(x.confidence) if x.confidence is not None else \"Node1\" if x.name is None else x.name\n",
        "        y_name = \"Node\" + str(y.confidence) if y.confidence is not None else \"Node1\" if y.name is None else y.name\n",
        "        idx, idy = names.index(x_name), names.index(y_name)\n",
        "        mat[idx][idy] = v\n",
        "        mat[idy][idx] = v\n",
        "    return mat"
      ],
      "metadata": {
        "id": "lWnhfJie7gLs"
      },
      "execution_count": null,
      "outputs": []
    },
    {
      "cell_type": "code",
      "source": [
        "# true_tree_distances_including_ancestors = get_true_tree_distances_including_ancestors(tree_path, S_names, Anc_names)\n",
        "# true_tree_distances = true_tree_distances_including_ancestors[:len(S_names), :len(S_names)]\n",
        "\n",
        "import pickle\n",
        "\n",
        "# with open(\"matrix.txt\", \"wb\") as f:\n",
        "#     pickle.dump(true_tree_distances_including_ancestors, f)\n",
        "with open(\"matrix.txt\", \"rb\") as f:\n",
        "    true_tree_distances_including_ancestors = pickle.load(f)\n",
        "true_tree_distances = true_tree_distances_including_ancestors[:len(S_names), :len(S_names)]"
      ],
      "metadata": {
        "id": "jUQQU1Ka7liV"
      },
      "execution_count": null,
      "outputs": []
    },
    {
      "cell_type": "code",
      "source": [
        "true_tree_distances_including_ancestors.shape, true_tree_distances.shape"
      ],
      "metadata": {
        "colab": {
          "base_uri": "https://localhost:8080/"
        },
        "id": "kQWAe5lR-4du",
        "outputId": "7501ff87-1bc1-4d7c-8a0a-5df12af75344"
      },
      "execution_count": null,
      "outputs": [
        {
          "output_type": "execute_result",
          "data": {
            "text/plain": [
              "((2047, 2047), (1024, 1024))"
            ]
          },
          "metadata": {},
          "execution_count": 8
        }
      ]
    },
    {
      "cell_type": "code",
      "source": [
        "pyro.clear_param_store()\n",
        "vae = VAE(50, 24, S.shape[1])"
      ],
      "metadata": {
        "id": "EgJoIaPf7s6a"
      },
      "execution_count": null,
      "outputs": []
    },
    {
      "cell_type": "code",
      "source": [
        "def per_param_callable(module_name, param_name):\n",
        "    if param_name in [\"tree_embed_loc\", \"tree_embed_len\"]:\n",
        "        return {\"lr\": 0.01, \"clip_norm\": 10}\n",
        "    elif param_name in [\"sigma_f_loc\", \"sigma_n_loc\", \"lambd_loc\"]:\n",
        "        return {\"lr\": 1e-6, \"clip_norm\": 10}\n",
        "    else:   \n",
        "        return {\"lr\": 0.001, \"clip_norm\": 10}\n",
        "optimizer = pyro.optim.ClippedAdam(per_param_callable)\n",
        "svi = SVI(vae.standard_asr_batched_model_latent_tree, vae.standard_asr_batched_guide_latent_tree, optimizer, loss=Trace_ELBO(num_particles=1))"
      ],
      "metadata": {
        "id": "DS3u43qw707-"
      },
      "execution_count": null,
      "outputs": []
    },
    {
      "cell_type": "code",
      "source": [
        "ELBOs = []\n",
        "\n",
        "Rec_Acc = []\n",
        "Rec_Acc_remove_gap = []"
      ],
      "metadata": {
        "id": "kZYFX8JS73_z"
      },
      "execution_count": null,
      "outputs": []
    },
    {
      "cell_type": "code",
      "source": [
        "for b in tqdm(range(400)):\n",
        "    indices = np.random.choice(S.shape[0], S.shape[0], False)\n",
        "    elbos = []\n",
        "    for batch in range(S.shape[0] // batch_size - 1):\n",
        "      batch_idx = indices[batch * batch_size: batch * batch_size + batch_size]\n",
        "      back_idx = indices[S.shape[0] // batch_size * batch_size - batch_size:]\n",
        "      all_idx = np.concatenate([back_idx, batch_idx])\n",
        "      elbo = svi.step(\n",
        "              aligned_S=S[batch_idx],\n",
        "              S_length=None,\n",
        "              S_index=batch_idx,\n",
        "              num_batch=S.shape[0] // batch_size - 1,\n",
        "              aligned_S_back=S[back_idx],\n",
        "              S_back_length=None,\n",
        "              S_back_index=back_idx,\n",
        "              num_instance=S.shape[0],\n",
        "              tree_emb_dim=40\n",
        "              )\n",
        "      elbos.append(elbo)\n",
        "    ELBOs.append(sum(elbos) / len(elbos))\n",
        "\n",
        "  \n",
        "    if b % 10 == 0:\n",
        "        with torch.no_grad():\n",
        "            # Rec ACC\n",
        "            S_onehot = torch.zeros_like(S[:, :, None]).expand([-1, -1, 24]).clone().scatter_(-1, S[:, :, None], 1)\n",
        "            S_onehot = S_onehot[:, :, :].float().cuda()\n",
        "           \n",
        "            Z_loc = vae.encoder(S_onehot, None)\n",
        "            re_MSA = vae.decoder.forward(None, Z_loc, False)\n",
        "\n",
        "            Rec_Acc_remove_gap.append(np.mean(reconstruction_accuracy(re_MSA, S_onehot, gap_index=23, remove_gap=True)))\n",
        "            Rec_Acc.append(np.mean(reconstruction_accuracy(re_MSA, S_onehot, gap_index=23, remove_gap=False)))\n",
        "\n",
        "    # if b == 120:\n",
        "    #     def per_param_callable(module_name, param_name):\n",
        "    #       if param_name in [\"tree_embed_loc\", \"tree_embed_len\"]:\n",
        "    #           return {\"lr\": 1e-3, \"clip_norm\": 10}\n",
        "    #       elif param_name in [\"sigma_f_loc\", \"sigma_n_loc\", \"lambd_loc\"]:\n",
        "    #           return {\"lr\": 1e-6, \"clip_norm\": 10}\n",
        "    #       else:   \n",
        "    #           return {\"lr\": 0.001, \"clip_norm\": 10}\n",
        "    #     optimizer = pyro.optim.ClippedAdam(per_param_callable)\n",
        "    #     svi = SVI(vae.standard_asr_batched_model_latent_tree, vae.standard_asr_batched_guide_latent_tree, optimizer, loss=Trace_ELBO(num_particles=1))\n",
        "\n",
        "\n",
        "    if b == 120:\n",
        "        def per_param_callable(module_name, param_name):\n",
        "          if param_name in [\"tree_embed_loc\", \"tree_embed_len\"]:\n",
        "              return {\"lr\": 1e-7, \"clip_norm\": 10}\n",
        "          elif param_name in [\"sigma_f_loc\", \"sigma_n_loc\", \"lambd_loc\"]:\n",
        "              return {\"lr\": 1e-4, \"clip_norm\": 10}\n",
        "          else:   \n",
        "              return {\"lr\": 0.001, \"clip_norm\": 10}\n",
        "        optimizer = pyro.optim.ClippedAdam(per_param_callable)\n",
        "        svi = SVI(vae.standard_asr_batched_model_latent_tree, vae.standard_asr_batched_guide_latent_tree, optimizer, loss=Trace_ELBO(num_particles=1))\n",
        "\n",
        "\n",
        "with torch.no_grad():\n",
        "\n",
        "    # Distances Correlation\n",
        "    latent_distance = 1 - torch.sum(Z_loc[None, :, :] * Z_loc[:, None, :], dim=-1) / torch.norm(Z_loc, p=2, dim=-1)[None, :] / torch.norm(Z_loc, p=2, dim=-1)[:, None]\n",
        "    latent_distance = torch.norm(Z_loc[None, :, :] - Z_loc[:, None, :], dim=-1)\n",
        "    latent_distance_upper = latent_distance[torch.triu_indices(S.shape[0], S.shape[0], 1)[0], torch.triu_indices(S.shape[0], S.shape[0], 1)[1]]\n",
        "    real_distance_upper = true_tree_distances[torch.triu_indices(S.shape[0], S.shape[0], 1)[0], torch.triu_indices(S.shape[0], S.shape[0], 1)[1]]\n",
        "    Spearmans = spearmanr(latent_distance_upper.cpu(), real_distance_upper)[0]\n",
        "    Pearsonss = pearsonr(latent_distance_upper.cpu(), real_distance_upper)[0]\n",
        "\n",
        "    # LCA ASR ACC\n",
        "    sigma_f = pyro.param(\"sigma_f_loc\")\n",
        "    sigma_n = pyro.param(\"sigma_n_loc\")\n",
        "    lambd = pyro.param(\"lambd_loc\")\n",
        "\n",
        "    tree_emb_loc, tree_emb_len = pyro.param(\"tree_embed_loc\"), pyro.param(\"tree_embed_len\")\n",
        "    tree_embedding = tree_emb_loc / tree_emb_loc.norm(dim=-1, keepdim=True) * tree_emb_len\n",
        "    batch_distance = vae._get_D(tree_embedding, 0)\n",
        "    tree = build_tree(batch_distance.cpu().numpy(), S_names)\n",
        "    nj_tree_distances_including_ancestors, rec_ans_names = get_nj_tree_distance_including_ancestors(tree, S_names)\n",
        "    nj_tree_distances = nj_tree_distances_including_ancestors[:len(S_names), :len(S_names)]\n",
        "\n",
        "\n",
        "    cov = torch.from_numpy(nj_tree_distances_including_ancestors).to(vae.device).float()[np.newaxis, :, :].expand([vae.n_z, nj_tree_distances_including_ancestors.shape[0], nj_tree_distances_including_ancestors.shape[0]]) / lambd[:, np.newaxis, np.newaxis]\n",
        "    cov = (torch.exp(-cov) * sigma_f[:, np.newaxis, np.newaxis] ** 2 + torch.eye(cov.shape[1], device=vae.device)[np.newaxis, :, :] * sigma_n[:, np.newaxis, np.newaxis] ** 2)\n",
        "\n",
        "    cov_tips = cov[:, :len(S_names), :len(S_names)]\n",
        "    cov_anc = cov[:, len(S_names):, len(S_names):]\n",
        "    con_tips_anc = cov[:, len(S_names):, :len(S_names)]\n",
        "\n",
        "    rec_anc = ASR(Z_loc, cov_tips, cov_anc, con_tips_anc, decoder=lambda x: vae.decoder(None, x, False))\n",
        "    rec_anc = tensor2char(rec_anc, back_AA_dict)\n",
        "\n",
        "    t = Phylo.read(tree_path, \"newick\")\n",
        "    tips = t.get_terminals()\n",
        "    tips = sorted(tips, key=lambda x: x.name)\n",
        "    ground = []\n",
        "    for i in range(len(tips)):\n",
        "        for j in range(i+1, len(tips)):\n",
        "            lca = t.common_ancestor(tips[i], tips[j])\n",
        "            lca_name = \"Node\" + str(lca.confidence) if lca.confidence is not None else \"Node1\" \n",
        "            lca_index = Anc_names.index(lca_name)\n",
        "            ground.append(Anc_char[lca_index])\n",
        "    tips = tree.get_terminals()\n",
        "    tips = sorted(tips, key=lambda x: x.name)\n",
        "    predicts = []\n",
        "    for i in tqdm(range(len(tips))):\n",
        "        for j in range(i+1, len(tips)):\n",
        "            lca = tree.common_ancestor(tips[i], tips[j])\n",
        "            lca_name = lca.name\n",
        "            lca_index = rec_ans_names.index(lca_name)\n",
        "            predicts.append(rec_anc[lca_index])\n",
        "    accs = asr_accuracy(ground, predicts)\n",
        "    LCA_ASR_Acc = np.mean(accs)\n",
        "    LCA_ASR_Acc_std = np.std(accs)\n",
        "    LCA_ASR_Acc_max = np.max(accs)\n",
        "    LCA_ASR_Acc_min = np.min(accs)\n",
        "\n",
        "    # tree measure\n",
        "    nj_tree_distances_upper = nj_tree_distances[torch.triu_indices(S.shape[0], S.shape[0], 1)[0], torch.triu_indices(S.shape[0], S.shape[0], 1)[1]]\n",
        "    Spearmans_tree = spearmanr(nj_tree_distances_upper, real_distance_upper)[0]\n",
        "    Pearsons_tree = pearsonr(nj_tree_distances_upper, real_distance_upper)[0]\n",
        "\n",
        "    embed_distances_upper = batch_distance.cpu().numpy()[torch.triu_indices(S.shape[0], S.shape[0], 1)[0], torch.triu_indices(S.shape[0], S.shape[0], 1)[1]]\n",
        "    Spearmans_dis = spearmanr(embed_distances_upper, real_distance_upper)[0]\n",
        "    Pearsons_dis = pearsonr(embed_distances_upper, real_distance_upper)[0]\n",
        "\n",
        "    \n"
      ],
      "metadata": {
        "colab": {
          "base_uri": "https://localhost:8080/"
        },
        "id": "xWZIR9lJ7_Bv",
        "outputId": "5788d56e-6978-40ea-fa5f-b5e691c66201"
      },
      "execution_count": null,
      "outputs": [
        {
          "output_type": "stream",
          "name": "stderr",
          "text": [
            "\r  0%|          | 0/400 [00:00<?, ?it/s]/usr/local/lib/python3.7/dist-packages/torch/distributions/dirichlet.py:71: UserWarning: Specified kernel cache directory could not be created! This disables kernel caching. Specified directory is /root/.cache/torch/kernels. This warning will appear only once per process. (Triggered internally at  ../aten/src/ATen/native/cuda/jit_utils.cpp:860.)\n",
            "  torch.lgamma(self.concentration.sum(-1)) -\n",
            "100%|██████████| 400/400 [44:58<00:00,  6.75s/it]\n",
            "100%|██████████| 1024/1024 [07:40<00:00,  2.23it/s]\n"
          ]
        }
      ]
    },
    {
      "cell_type": "code",
      "source": [
        "Phylo.write(tree, \"./tree_latent.tre\", \"newick\")"
      ],
      "metadata": {
        "colab": {
          "base_uri": "https://localhost:8080/"
        },
        "id": "pcnLckJuMJdL",
        "outputId": "c10b273c-5891-4772-d712-3ce34d1c842e"
      },
      "execution_count": null,
      "outputs": [
        {
          "output_type": "execute_result",
          "data": {
            "text/plain": [
              "1"
            ]
          },
          "metadata": {},
          "execution_count": 13
        }
      ]
    },
    {
      "cell_type": "code",
      "source": [
        "plt.rcParams[\"figure.figsize\"] = (6, 4)\n",
        "plt.plot(ELBOs)"
      ],
      "metadata": {
        "colab": {
          "base_uri": "https://localhost:8080/",
          "height": 294
        },
        "id": "qhoZ-g7SAN7C",
        "outputId": "223aed39-be16-4c37-ccd4-56d4a26eed12"
      },
      "execution_count": null,
      "outputs": [
        {
          "output_type": "execute_result",
          "data": {
            "text/plain": [
              "[<matplotlib.lines.Line2D at 0x7f6ea0703e90>]"
            ]
          },
          "metadata": {},
          "execution_count": 14
        },
        {
          "output_type": "display_data",
          "data": {
            "text/plain": [
              "<Figure size 432x288 with 1 Axes>"
            ],
            "image/png": "[encoded data removed]"
          },
          "metadata": {
            "needs_background": "light"
          }
        }
      ]
    },
    {
      "cell_type": "code",
      "source": [
        "plt.rcParams[\"figure.figsize\"] = (6, 4)\n",
        "plt.plot(np.arange(len(Rec_Acc)) * 10, Rec_Acc)\n",
        "plt.plot(np.arange(len(Rec_Acc_remove_gap)) * 10, Rec_Acc_remove_gap)\n",
        "plt.ylim(-0.01, 1.01)\n",
        "plt.yticks(np.arange(0, 1.01, 0.1))\n",
        "print(max(Rec_Acc_remove_gap[1:]))"
      ],
      "metadata": {
        "colab": {
          "base_uri": "https://localhost:8080/",
          "height": 285
        },
        "id": "Fib5OJBNCmSK",
        "outputId": "8caba3af-59c0-4f7b-b09a-b73c76a2b43c"
      },
      "execution_count": null,
      "outputs": [
        {
          "output_type": "stream",
          "name": "stdout",
          "text": [
            "0.9983992863370696\n"
          ]
        },
        {
          "output_type": "display_data",
          "data": {
            "text/plain": [
              "<Figure size 432x288 with 1 Axes>"
            ],
            "image/png": "[encoded data removed]"
          },
          "metadata": {
            "needs_background": "light"
          }
        }
      ]
    },
    {
      "cell_type": "code",
      "source": [
        "print(Spearmans, Pearsonss)"
      ],
      "metadata": {
        "id": "MLWqrZ6SAhgK",
        "colab": {
          "base_uri": "https://localhost:8080/"
        },
        "outputId": "c60edec8-5a37-436c-dd7d-ce733f8ae795"
      },
      "execution_count": null,
      "outputs": [
        {
          "output_type": "stream",
          "name": "stdout",
          "text": [
            "0.5587328982517562 0.689490963506652\n"
          ]
        }
      ]
    },
    {
      "cell_type": "code",
      "source": [
        "LCA_ASR_Acc, LCA_ASR_Acc_std, LCA_ASR_Acc_max, LCA_ASR_Acc_min"
      ],
      "metadata": {
        "colab": {
          "base_uri": "https://localhost:8080/"
        },
        "id": "Q7xpu9yVArOv",
        "outputId": "48e9f943-7a0d-4487-8d00-eeb9e6a7c800"
      },
      "execution_count": null,
      "outputs": [
        {
          "output_type": "execute_result",
          "data": {
            "text/plain": [
              "(0.8012485289585981, 0.05320396942390226, 0.99079754601227, 0.5728155339805825)"
            ]
          },
          "metadata": {},
          "execution_count": 17
        }
      ]
    },
    {
      "cell_type": "code",
      "source": [
        "Spearmans_tree, Pearsons_tree, Spearmans_dis, Pearsons_dis"
      ],
      "metadata": {
        "id": "Y1OwK0bdAv40",
        "colab": {
          "base_uri": "https://localhost:8080/"
        },
        "outputId": "c1d13126-b644-4577-8aba-8b1d8143e9d8"
      },
      "execution_count": null,
      "outputs": [
        {
          "output_type": "execute_result",
          "data": {
            "text/plain": [
              "(0.557409911201676, 0.7070778767708815, 0.5044292653790763, 0.6935154120189122)"
            ]
          },
          "metadata": {},
          "execution_count": 18
        }
      ]
    },
    {
      "cell_type": "code",
      "source": [
        "pyro.param(\"sigma_f_loc\"), pyro.param(\"sigma_n_loc\"), pyro.param(\"lambd_loc\")"
      ],
      "metadata": {
        "colab": {
          "base_uri": "https://localhost:8080/"
        },
        "id": "HCG-IQ5PGHX3",
        "outputId": "5cb3bd7e-9cda-40f9-e5b5-e651dfdcd29e"
      },
      "execution_count": null,
      "outputs": [
        {
          "output_type": "execute_result",
          "data": {
            "text/plain": [
              "(tensor([2.4168, 2.4156, 2.4147, 2.4159, 2.4163, 2.4136, 2.4171, 2.4176, 2.4178,\n",
              "         2.4164, 2.4179, 2.4165, 2.4166, 2.4170, 2.4157, 2.4164, 2.4179, 2.4173,\n",
              "         2.4137, 2.4137, 2.4156, 2.4137, 2.4171, 2.4170, 2.4158, 2.4161, 2.4148,\n",
              "         2.4136, 2.4154, 2.4175, 2.4167, 2.4166, 2.4171, 2.4160, 2.4167, 2.4164,\n",
              "         2.4169, 2.4148, 2.4177, 2.4166, 2.4157, 2.4172, 2.4163, 2.4167, 2.4156,\n",
              "         2.4139, 2.4169, 2.4163, 2.4172, 2.4172], device='cuda:0',\n",
              "        grad_fn=<AddBackward0>),\n",
              " tensor([0.1827, 0.1826, 0.1824, 0.1826, 0.1826, 0.1826, 0.1827, 0.1829, 0.1829,\n",
              "         0.1826, 0.1829, 0.1828, 0.1826, 0.1827, 0.1825, 0.1826, 0.1829, 0.1828,\n",
              "         0.1823, 0.1824, 0.1825, 0.1823, 0.1829, 0.1826, 0.1826, 0.1826, 0.1825,\n",
              "         0.1823, 0.1825, 0.1829, 0.1827, 0.1828, 0.1826, 0.1826, 0.1827, 0.1828,\n",
              "         0.1828, 0.1825, 0.1829, 0.1828, 0.1826, 0.1828, 0.1827, 0.1827, 0.1825,\n",
              "         0.1824, 0.1827, 0.1827, 0.1828, 0.1828], device='cuda:0',\n",
              "        grad_fn=<AddBackward0>),\n",
              " tensor([2.5744, 2.5754, 2.5757, 2.5751, 2.5748, 2.5760, 2.5744, 2.5736, 2.5737,\n",
              "         2.5745, 2.5734, 2.5746, 2.5745, 2.5746, 2.5756, 2.5753, 2.5735, 2.5746,\n",
              "         2.5764, 2.5762, 2.5755, 2.5762, 2.5740, 2.5744, 2.5752, 2.5748, 2.5756,\n",
              "         2.5764, 2.5759, 2.5740, 2.5749, 2.5740, 2.5746, 2.5748, 2.5749, 2.5749,\n",
              "         2.5742, 2.5753, 2.5741, 2.5749, 2.5750, 2.5740, 2.5744, 2.5746, 2.5750,\n",
              "         2.5761, 2.5747, 2.5746, 2.5743, 2.5745], device='cuda:0',\n",
              "        grad_fn=<AddBackward0>))"
            ]
          },
          "metadata": {},
          "execution_count": 19
        }
      ]
    },
    {
      "cell_type": "code",
      "source": [
        ""
      ],
      "metadata": {
        "id": "vt5QhkXzGHZ8"
      },
      "execution_count": null,
      "outputs": []
    },
    {
      "cell_type": "code",
      "source": [
        ""
      ],
      "metadata": {
        "id": "9wN-2mn-GK33"
      },
      "execution_count": null,
      "outputs": []
    }
  ]
}